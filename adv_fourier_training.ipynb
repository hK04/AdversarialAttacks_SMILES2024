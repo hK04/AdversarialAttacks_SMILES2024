{
 "cells": [
  {
   "cell_type": "code",
   "execution_count": 2,
   "id": "7ce6acdd-1cdd-413b-a728-dc00d3f13038",
   "metadata": {},
   "outputs": [],
   "source": [
    "import os\n",
    "import sys\n",
    "import gc\n",
    "\n",
    "dir2 = os.path.abspath('')\n",
    "dir1 = os.path.dirname(dir2)\n",
    "if dir1 not in sys.path:\n",
    "    sys.path.append(dir1)"
   ]
  },
  {
   "cell_type": "code",
   "execution_count": 3,
   "id": "100da776-012f-455e-b5a6-3b8d8fc92ba7",
   "metadata": {},
   "outputs": [
    {
     "name": "stderr",
     "output_type": "stream",
     "text": [
      "/opt/conda/lib/python3.10/site-packages/tqdm/auto.py:22: TqdmWarning: IProgress not found. Please update jupyter and ipywidgets. See https://ipywidgets.readthedocs.io/en/stable/user_install.html\n",
      "  from .autonotebook import tqdm as notebook_tqdm\n"
     ]
    }
   ],
   "source": [
    "import hydra\n",
    "from hydra import compose, initialize\n",
    "from omegaconf import OmegaConf\n",
    "from sklearn.preprocessing import MinMaxScaler\n",
    "from sklearn.metrics import accuracy_score\n",
    "\n",
    "from src.utils import fix_seed, save_config, save_compiled_config"
   ]
  },
  {
   "cell_type": "code",
   "execution_count": 4,
   "id": "7fe86fca-6837-42b8-8d1f-e29e37fd1077",
   "metadata": {},
   "outputs": [
    {
     "name": "stderr",
     "output_type": "stream",
     "text": [
      "CUDA extension for structured kernels (Cauchy and Vandermonde multiplication) not found. Install by going to extensions/kernels/ and running `python setup.py install`, for improved speed and memory efficiency. Note that the kernel changed for state-spaces 4.0 and must be recompiled.\n",
      "Falling back on slow Cauchy and Vandermonde kernel. Install at least one of pykeops or the CUDA extension for better speed and memory efficiency.\n"
     ]
    }
   ],
   "source": [
    "import torch\n",
    "\n",
    "from src.config import get_attack, get_criterion, get_disc_list, get_model\n",
    "from src.data import MyDataset, load_data, transform_data\n",
    "from src.estimation.estimators import AttackEstimator\n",
    "\n",
    "import numpy as np\n",
    "\n",
    "from torch.utils.data import DataLoader\n",
    "from torch.utils.tensorboard import SummaryWriter\n",
    "\n",
    "from src.data import MyDataset, load_data, transform_data\n",
    "from src.training.train import Trainer\n",
    "from src.utils import fix_seed, save_config, save_compiled_config"
   ]
  },
  {
   "cell_type": "code",
   "execution_count": 5,
   "id": "e4f104be-d6fd-445d-b8d4-5be816983b05",
   "metadata": {},
   "outputs": [],
   "source": [
    "import numpy as np\n",
    "import pandas as pd\n",
    "import matplotlib.pyplot as plt\n",
    "from scipy.fft import rfft, rfftfreq\n",
    "\n",
    "# plot parameters\n",
    "standard_size: int = 14\n",
    "\n",
    "plt.rc('font', size=standard_size)          # controls default text sizes\n",
    "plt.rc('axes', titlesize=standard_size)     # fontsize of the axes title\n",
    "plt.rc('axes', labelsize=standard_size)     # fontsize of the x and y labels\n",
    "plt.rc('xtick', labelsize=standard_size)    # fontsize of the tick labels\n",
    "plt.rc('ytick', labelsize=standard_size)    # fontsize of the tick labels\n",
    "plt.rc('legend', fontsize=standard_size)    # legend fontsize\n",
    "plt.rc('figure', titlesize=standard_size)   # fontsize of the figure title"
   ]
  },
  {
   "cell_type": "code",
   "execution_count": 6,
   "id": "52125446-2ac1-4ed7-9c26-a576307fc458",
   "metadata": {},
   "outputs": [],
   "source": [
    "# colors\n",
    "colors = [\"#003f5c\",\"#58508d\",\"#bc5090\",\"#ff6361\",\"#ffa600\"]\n",
    "l_colors = [\"#00205e\",\"#003f5c\",\"#2c4875\",\"#8a508f\",\"#bc5090\",\"#ff6361\",\"#ff8531\",\"#ffa600\",\"#00cc80\"]\n",
    "\n",
    "np.random.seed(5)\n",
    "\n",
    "def get_color(index: int, palette: str = 'short'):\n",
    "    \"\"\"\n",
    "    Get a HEX color from a defined palette\n",
    "    :param: index (int)\n",
    "    :param: palette (str) \"short\" (5 colors), \"long\" (9 colors), \"\" (black)\n",
    "    \"\"\"\n",
    "    if palette == 'short':\n",
    "        m = len(colors)\n",
    "        return colors[(4 * index) % m]\n",
    "    if palette == 'long':\n",
    "        n = len(l_colors)\n",
    "        return l_colors[(7 * index) % n]\n",
    "    return \"#000\""
   ]
  },
  {
   "cell_type": "markdown",
   "id": "44901300-07f0-442e-8b9d-b05034d54707",
   "metadata": {},
   "source": [
    "# Functions"
   ]
  },
  {
   "cell_type": "code",
   "execution_count": 7,
   "id": "3e2d5e02-8c92-4858-b122-379473eb4569",
   "metadata": {},
   "outputs": [],
   "source": [
    "def train(cfg, train_loader, test_loader):\n",
    "    augmentator = (\n",
    "        [instantiate(trans) for trans in cfg[\"transform_data\"]] if cfg[\"transform_data\"]\n",
    "        else None\n",
    "    )\n",
    "    \n",
    "    logger = SummaryWriter(cfg[\"save_path\"] + \"/tensorboard\")\n",
    "    fix_seed(cfg['model_id_attack'])\n",
    "\n",
    "    const_params = {\n",
    "        \"logger\": logger,\n",
    "        \"print_every\": 10, #cfg[\"print_every\"],\n",
    "        \"device\": device,\n",
    "        \"seed\": cfg['model_id_attack'],\n",
    "        \"train_self_supervised\": False\n",
    "    }\n",
    "\n",
    "    trainer_params = dict(cfg[\"training_params\"])\n",
    "    trainer_params.update(const_params)\n",
    "    trainer = Trainer.initialize_with_params(**trainer_params)\n",
    "\n",
    "    trainer.train_model(train_loader, test_loader)\n",
    "    logger.close()\n",
    "    \n",
    "    return trainer.model\n",
    "\n",
    "\n",
    "def get_attacks(cfg, eps, n_steps_list, model):\n",
    "    attack_model = model\n",
    "\n",
    "    criterion = get_criterion(cfg[\"criterion_name\"], cfg[\"criterion_params\"])\n",
    "    \n",
    "    disc_check_list = None\n",
    "    \n",
    "    estimator = AttackEstimator(\n",
    "        disc_check_list,\n",
    "        cfg[\"metric_effect\"],\n",
    "        cfg[\"metric_hid\"],\n",
    "        batch_size=cfg[\"estimator_batch_size\"],\n",
    "    )\n",
    "    \n",
    "    attacks = list()\n",
    "    \n",
    "    for n_steps in n_steps_list:\n",
    "        attack_params = dict(cfg[\"attack\"][\"attack_params\"])\n",
    "        attack_params[\"model\"] = attack_model\n",
    "        attack_params[\"criterion\"] = criterion\n",
    "        attack_params[\"estimator\"] = estimator\n",
    "        attack_params[\"alpha\"] = 0\n",
    "        attack_params[\"eps\"] = eps\n",
    "        attack_params[\"n_steps\"] = n_steps\n",
    "    \n",
    "        attacks.append(get_attack(cfg[\"attack\"][\"name\"], attack_params))\n",
    "\n",
    "    return attacks"
   ]
  },
  {
   "cell_type": "markdown",
   "id": "36c9ac41-359b-43e0-9b20-c4c33acee380",
   "metadata": {},
   "source": [
    "# Config + data"
   ]
  },
  {
   "cell_type": "code",
   "execution_count": 8,
   "id": "fbd1e2a1-f28c-4e2e-ad6e-a514f770b658",
   "metadata": {},
   "outputs": [],
   "source": [
    "initialize(config_path='config/my_configs', version_base=None)\n",
    "cfg = compose(config_name='mix_exp.yaml')"
   ]
  },
  {
   "cell_type": "code",
   "execution_count": 9,
   "id": "2bc87da8-b81b-4da0-a7a6-bdbc319d2cc1",
   "metadata": {},
   "outputs": [
    {
     "name": "stdout",
     "output_type": "stream",
     "text": [
      "Dataset FordA\n"
     ]
    }
   ],
   "source": [
    "print(\"Dataset\", cfg[\"dataset\"]['name'])\n",
    "\n",
    "X_train, y_train, X_test, y_test = load_data(cfg[\"dataset\"]['name'])\n",
    "\n",
    "X_train, X_test, y_train, y_test = transform_data(\n",
    "    X_train, \n",
    "    X_test, \n",
    "    y_train, \n",
    "    y_test, \n",
    "    slice_data=cfg[\"slice\"]\n",
    ")\n",
    "\n",
    "test_loader = DataLoader(\n",
    "    MyDataset(X_test, y_test), \n",
    "    batch_size=cfg[\"batch_size\"], \n",
    "    shuffle=False\n",
    ")\n",
    "\n",
    "train_loader = DataLoader(\n",
    "    MyDataset(X_train, y_train), \n",
    "    batch_size=cfg[\"batch_size\"], \n",
    "    shuffle=False\n",
    ")\n",
    "\n",
    "device = torch.device('cuda:0' if torch.cuda.is_available() else \"cpu\")"
   ]
  },
  {
   "cell_type": "markdown",
   "id": "169acd39-eed9-4217-a20f-be6a47888909",
   "metadata": {},
   "source": [
    "# Train original model"
   ]
  },
  {
   "cell_type": "code",
   "execution_count": 10,
   "id": "f7394fbd-16ed-4cdf-9d55-ad434334edbc",
   "metadata": {},
   "outputs": [
    {
     "name": "stdout",
     "output_type": "stream",
     "text": [
      "Epoch 1 train loss: 0.662; acc_train 0.588; test loss: 0.587; acc_test 0.701; f1_test 0.678; balance 0.444; certainty 0.628\n",
      "Epoch 11 train loss: 0.069; acc_train 0.984; test loss: 0.396; acc_test 0.848; f1_test 0.847; balance 0.514; certainty 0.911\n",
      "Epoch 21 train loss: 0.005; acc_train 1.0; test loss: 0.529; acc_test 0.85; f1_test 0.847; balance 0.499; certainty 0.943\n",
      "Epoch 31 train loss: 0.001; acc_train 1.0; test loss: 0.582; acc_test 0.85; f1_test 0.847; balance 0.499; certainty 0.951\n",
      "Epoch 41 train loss: 0.001; acc_train 1.0; test loss: 0.619; acc_test 0.848; f1_test 0.844; balance 0.494; certainty 0.956\n",
      "Epoch 51 train loss: 0.0; acc_train 1.0; test loss: 0.636; acc_test 0.846; f1_test 0.843; balance 0.494; certainty 0.957\n"
     ]
    }
   ],
   "source": [
    "model_orig = train(cfg, train_loader, test_loader)"
   ]
  },
  {
   "cell_type": "markdown",
   "id": "11c9bbf4-5ec8-4d8f-b016-c983ca1a462e",
   "metadata": {},
   "source": [
    "### Attack data with original data"
   ]
  },
  {
   "cell_type": "code",
   "execution_count": 133,
   "id": "cb3a2fcd-ed2d-477a-b0c6-3a76325f16ea",
   "metadata": {},
   "outputs": [
    {
     "name": "stdout",
     "output_type": "stream",
     "text": [
      "logging\n",
      "logging\n",
      "logging\n",
      "logging\n"
     ]
    }
   ],
   "source": [
    "n_steps_list = np.arange(5, 25, 5) ##### менять\n",
    "\n",
    "attacks = get_attacks(cfg, 0.05, n_steps_list, model_orig)"
   ]
  },
  {
   "cell_type": "code",
   "execution_count": 134,
   "id": "5665369c-d3e5-439e-9a94-190c139585f4",
   "metadata": {},
   "outputs": [
    {
     "name": "stderr",
     "output_type": "stream",
     "text": [
      "100%|██████████| 5/5 [00:15<00:00,  3.05s/it]\n",
      "100%|██████████| 10/10 [00:29<00:00,  2.98s/it]\n",
      "100%|██████████| 15/15 [00:44<00:00,  2.98s/it]\n",
      "100%|██████████| 20/20 [00:59<00:00,  2.98s/it]\n"
     ]
    }
   ],
   "source": [
    "attacked_train = {}\n",
    "\n",
    "for attack in attacks:\n",
    "    X_adv = attack.apply_attack(train_loader).squeeze()\n",
    "    attacked_train[attack.n_steps] = X_adv"
   ]
  },
  {
   "cell_type": "code",
   "execution_count": 136,
   "id": "6462952e-6c57-44df-80ed-203d46c24d47",
   "metadata": {},
   "outputs": [],
   "source": [
    "first_batchX, first_batchY = next(iter(train_loader))"
   ]
  },
  {
   "cell_type": "code",
   "execution_count": 143,
   "id": "ee5ffed8-de0b-42fe-a282-2b8a28cd0696",
   "metadata": {},
   "outputs": [
    {
     "data": {
      "text/plain": [
       "<matplotlib.legend.Legend at 0x1553f7915600>"
      ]
     },
     "execution_count": 143,
     "metadata": {},
     "output_type": "execute_result"
    },
    {
     "data": {
      "image/png": "[encoded data removed]",
      "text/plain": [
       "<Figure size 640x480 with 1 Axes>"
      ]
     },
     "metadata": {},
     "output_type": "display_data"
    }
   ],
   "source": [
    "plt.title('Original TS snippets')\n",
    "plt.plot(attacked_train[20][0], c=get_color(1), label='attacked by 20 iterations')\n",
    "plt.plot(first_batchX[0], c=get_color(0), label='original')\n",
    "plt.legend()"
   ]
  },
  {
   "cell_type": "code",
   "execution_count": 150,
   "id": "0916c797-ca6f-4b03-854c-7b5052a41a41",
   "metadata": {},
   "outputs": [
    {
     "data": {
      "text/plain": [
       "<matplotlib.legend.Legend at 0x1553f7893fd0>"
      ]
     },
     "execution_count": 150,
     "metadata": {},
     "output_type": "execute_result"
    },
    {
     "data": {
      "image/png": "[encoded data removed]",
      "text/plain": [
       "<Figure size 640x480 with 1 Axes>"
      ]
     },
     "metadata": {},
     "output_type": "display_data"
    }
   ],
   "source": [
    "plt.title('FFT of given TS snippets')\n",
    "plt.plot(abs(rfft(first_batchX[0].numpy().reshape(1, -1)[0])) / 500, color=get_color(0), label='original')\n",
    "plt.plot(abs(rfft(attacked_train[15][0].numpy())) / 500, color=get_color(1), label='attacked by 20 iterations')\n",
    "plt.legend()"
   ]
  },
  {
   "cell_type": "code",
   "execution_count": 144,
   "id": "998bef59-107c-4b96-a3a0-8233fe6575d6",
   "metadata": {},
   "outputs": [],
   "source": [
    "preds_orig = model_orig(first_batchX.to(device)).detach().cpu().numpy()\n",
    "preds_orig[np.where(preds_orig > 0.5)] = 1\n",
    "preds_orig[np.where(preds_orig < 0.5)] = 0\n",
    "\n",
    "preds_attacked20 = model_orig(attacked_train[20].unsqueeze(-1)[:cfg['batch_size']].to(device)).detach().cpu().numpy()\n",
    "preds_attacked20[np.where(preds_attacked20 > 0.5)] = 1\n",
    "preds_attacked20[np.where(preds_attacked20 < 0.5)] = 0"
   ]
  },
  {
   "cell_type": "code",
   "execution_count": 145,
   "id": "e3aae75e-929d-40cc-8649-6c5496a301dd",
   "metadata": {},
   "outputs": [
    {
     "data": {
      "text/plain": [
       "121"
      ]
     },
     "execution_count": 145,
     "metadata": {},
     "output_type": "execute_result"
    }
   ],
   "source": [
    "torch.cuda.empty_cache()\n",
    "gc.collect()"
   ]
  },
  {
   "cell_type": "code",
   "execution_count": 146,
   "id": "0780f614-a4fa-49be-8131-9367fba93f05",
   "metadata": {},
   "outputs": [
    {
     "data": {
      "text/plain": [
       "1.0"
      ]
     },
     "execution_count": 146,
     "metadata": {},
     "output_type": "execute_result"
    }
   ],
   "source": [
    "accuracy_score(preds_orig, first_batchY)"
   ]
  },
  {
   "cell_type": "code",
   "execution_count": 147,
   "id": "37a577a9-dbb8-46d8-94ca-fc2bff0bd62e",
   "metadata": {},
   "outputs": [
    {
     "data": {
      "text/plain": [
       "0.0625"
      ]
     },
     "execution_count": 147,
     "metadata": {},
     "output_type": "execute_result"
    }
   ],
   "source": [
    "accuracy_score(first_batchY, preds_attacked20)"
   ]
  },
  {
   "cell_type": "code",
   "execution_count": 153,
   "id": "dfddc97a-de7b-4067-87d5-9231e14e2ac2",
   "metadata": {},
   "outputs": [
    {
     "name": "stdout",
     "output_type": "stream",
     "text": [
      "logging\n",
      "logging\n",
      "logging\n",
      "logging\n",
      "logging\n",
      "logging\n",
      "logging\n",
      "logging\n",
      "logging\n",
      "logging\n",
      "logging\n",
      "logging\n",
      "logging\n",
      "logging\n",
      "logging\n",
      "logging\n",
      "logging\n",
      "logging\n",
      "logging\n",
      "logging\n",
      "logging\n",
      "logging\n",
      "logging\n",
      "logging\n",
      "logging\n"
     ]
    },
    {
     "name": "stderr",
     "output_type": "stream",
     "text": [
      "100%|██████████| 1/1 [00:03<00:00,  3.62s/it]\n",
      "100%|██████████| 2/2 [00:05<00:00,  2.97s/it]\n",
      "100%|██████████| 3/3 [00:08<00:00,  2.98s/it]\n",
      "100%|██████████| 4/4 [00:11<00:00,  2.98s/it]\n",
      "100%|██████████| 5/5 [00:14<00:00,  2.98s/it]\n",
      "100%|██████████| 6/6 [00:17<00:00,  2.97s/it]\n",
      "100%|██████████| 7/7 [00:20<00:00,  2.97s/it]\n",
      "100%|██████████| 8/8 [00:23<00:00,  2.97s/it]\n",
      "100%|██████████| 9/9 [00:26<00:00,  2.97s/it]\n",
      "100%|██████████| 10/10 [00:29<00:00,  2.98s/it]\n",
      "100%|██████████| 11/11 [00:32<00:00,  2.97s/it]\n",
      "100%|██████████| 12/12 [00:35<00:00,  2.97s/it]\n",
      "100%|██████████| 13/13 [00:39<00:00,  3.02s/it]\n",
      "100%|██████████| 14/14 [00:42<00:00,  3.03s/it]\n",
      "100%|██████████| 15/15 [00:44<00:00,  2.98s/it]\n",
      "100%|██████████| 16/16 [00:49<00:00,  3.07s/it]\n",
      "100%|██████████| 17/17 [01:20<00:00,  4.73s/it]\n",
      "100%|██████████| 18/18 [01:10<00:00,  3.92s/it]\n",
      "100%|██████████| 19/19 [01:36<00:00,  5.10s/it]\n",
      "100%|██████████| 20/20 [01:25<00:00,  4.30s/it]\n",
      "100%|██████████| 21/21 [01:12<00:00,  3.46s/it]\n",
      "100%|██████████| 22/22 [01:05<00:00,  2.99s/it]\n",
      "100%|██████████| 23/23 [01:08<00:00,  2.98s/it]\n",
      "100%|██████████| 24/24 [01:11<00:00,  2.98s/it]\n",
      "100%|██████████| 25/25 [01:14<00:00,  2.97s/it]\n"
     ]
    }
   ],
   "source": [
    "attacked_train_plotter = {}\n",
    "\n",
    "n_steps_list = np.arange(1, 26, 1) ##### менять\n",
    "\n",
    "attacks = get_attacks(cfg, 0.05, n_steps_list, model_orig)\n",
    "\n",
    "for attack in attacks:\n",
    "    X_adv = attack.apply_attack(train_loader).squeeze()\n",
    "    attacked_train_plotter[attack.n_steps] = X_adv[5]"
   ]
  },
  {
   "cell_type": "code",
   "execution_count": 160,
   "id": "fedfa6b7-cb48-4e76-841c-5aa5414ce469",
   "metadata": {},
   "outputs": [
    {
     "data": {
      "text/plain": [
       "Text(300, 2, '12 iteration')"
      ]
     },
     "execution_count": 160,
     "metadata": {},
     "output_type": "execute_result"
    },
    {
     "data": {
      "image/png": "[encoded data removed]",
      "text/plain": [
       "<Figure size 640x480 with 1 Axes>"
      ]
     },
     "metadata": {},
     "output_type": "display_data"
    }
   ],
   "source": [
    "plt.plot(attacked_train_plotter[1])#[1][0]\n",
    "plt.text(300, 2, f'{12}' + ' iteration')"
   ]
  },
  {
   "cell_type": "code",
   "execution_count": 172,
   "id": "cae6b26f-a0c7-44b6-b607-ed05f2e3c56b",
   "metadata": {},
   "outputs": [
    {
     "data": {
      "image/png": "[encoded data removed]",
      "text/plain": [
       "<Figure size 640x480 with 1 Axes>"
      ]
     },
     "metadata": {},
     "output_type": "display_data"
    }
   ],
   "source": [
    "from matplotlib import animation\n",
    "from mpl_toolkits.axes_grid1 import make_axes_locatable\n",
    "#plt.rcParams.update({'font.size' : 20})\n",
    "\n",
    "fig, ax = plt.subplots()\n",
    "#div = make_axes_locatable(ax)\n",
    "#cax = div.append_axes('right', '5%', '5%')\n",
    "plt.tight_layout()\n",
    "ax.set_title('Adversarial attacked sample')\n",
    "\n",
    "def animate(t):\n",
    "    ax.clear()\n",
    "    ax.plot(attacked_train_plotter[t + 1], c=get_color(0))#[1][0]\n",
    "    ax.text(300, 2.75, f'{t + 1}' + ' iteration')\n",
    "    ax.set_yticks([-3.5, -3.0, -2, -1, 0, 1, 2, 3, 3.5])\n",
    "\n",
    "    return fig, ax\n",
    "\n",
    "ani = animation.FuncAnimation(fig, animate, frames=25, interval=200)\n",
    "ani.save('AdvTrain.gif', fps=15"
   ]
  },
  {
   "cell_type": "code",
   "execution_count": 182,
   "id": "9e8c27d7-6361-415a-8463-58e7bbeeaa23",
   "metadata": {},
   "outputs": [
    {
     "data": {
      "image/png": "[encoded data removed]",
      "text/plain": [
       "<Figure size 640x480 with 1 Axes>"
      ]
     },
     "metadata": {},
     "output_type": "display_data"
    }
   ],
   "source": [
    "fig, ax = plt.subplots()\n",
    "#div = make_axes_locatable(ax)\n",
    "#cax = div.append_axes('right', '5%', '5%')\n",
    "plt.tight_layout()\n",
    "ax.set_title('Adversarial attacked sample')\n",
    "\n",
    "def animate(t):\n",
    "    ax.clear()\n",
    "    plt.plot(abs(rfft(attacked_train_plotter[t + 1].numpy())) / 500, color=get_color(0))\n",
    "    ax.text(150, 0.275, f'{t + 1}' + ' iteration')\n",
    "    \n",
    "    ax.set_yticks(np.arange(0, 0.41, 0.05))\n",
    "\n",
    "    return fig, ax\n",
    "\n",
    "ani = animation.FuncAnimation(fig, animate, frames=25, interval=200)\n",
    "ani.save('AdvFourier.gif', fps=15)"
   ]
  },
  {
   "cell_type": "markdown",
   "id": "87c2f3bf-bb10-40cc-9c9f-638b566e51f0",
   "metadata": {},
   "source": [
    "### Mix attack data with train"
   ]
  },
  {
   "cell_type": "code",
   "execution_count": 10,
   "id": "61f5087f-e9fe-4de9-9b02-30a8f5a5cf40",
   "metadata": {},
   "outputs": [],
   "source": [
    "X_train = train_loader.dataset.X\n",
    "y_train = train_loader.dataset.y\n",
    "\n",
    "X_train_mixed = torch.cat([X_train, attacked_train[5]]) ###### шаги атаки\n",
    "y_train_mixed = torch.cat([y_train, y_train])\n",
    "\n",
    "train_loader_mixed = DataLoader(\n",
    "    MyDataset(X_train_mixed, y_train_mixed), \n",
    "    batch_size=cfg[\"batch_size\"], \n",
    "    shuffle=True\n",
    ")"
   ]
  },
  {
   "cell_type": "markdown",
   "id": "ea940680-b081-4574-8064-ce3f8dc385c2",
   "metadata": {},
   "source": [
    "# Train on mixed"
   ]
  },
  {
   "cell_type": "code",
   "execution_count": 11,
   "id": "46dc1555-8b12-4e5d-bb00-56aa7dd70e08",
   "metadata": {},
   "outputs": [
    {
     "name": "stdout",
     "output_type": "stream",
     "text": [
      "Epoch 1 train loss: 0.401; acc_train 0.836; test loss: 0.303; acc_test 0.911; f1_test 0.918; balance 0.589; certainty 0.774\n",
      "Epoch 11 train loss: 0.078; acc_train 0.981; test loss: 0.122; acc_test 0.967; f1_test 0.968; balance 0.533; certainty 0.91\n",
      "Epoch 21 train loss: 0.035; acc_train 1.0; test loss: 0.078; acc_test 0.978; f1_test 0.978; balance 0.522; certainty 0.946\n",
      "Epoch 31 train loss: 0.013; acc_train 1.0; test loss: 0.056; acc_test 0.989; f1_test 0.989; balance 0.511; certainty 0.964\n",
      "Epoch 41 train loss: 0.006; acc_train 1.0; test loss: 0.052; acc_test 0.989; f1_test 0.989; balance 0.511; certainty 0.97\n",
      "Epoch 51 train loss: 0.004; acc_train 1.0; test loss: 0.05; acc_test 0.989; f1_test 0.989; balance 0.511; certainty 0.974\n"
     ]
    }
   ],
   "source": [
    "model_mixed = train(cfg, train_loader_mixed, test_loader)"
   ]
  },
  {
   "cell_type": "markdown",
   "id": "b107f87d-d05c-4187-9149-ca530a85a329",
   "metadata": {},
   "source": [
    "# Test"
   ]
  },
  {
   "cell_type": "code",
   "execution_count": 8,
   "id": "639e4e4f-34d0-4298-b019-8581de583fb6",
   "metadata": {},
   "outputs": [
    {
     "ename": "NameError",
     "evalue": "name 'n_steps_list' is not defined",
     "output_type": "error",
     "traceback": [
      "\u001b[0;31m---------------------------------------------------------------------------\u001b[0m",
      "\u001b[0;31mNameError\u001b[0m                                 Traceback (most recent call last)",
      "Cell \u001b[0;32mIn[8], line 1\u001b[0m\n\u001b[0;32m----> 1\u001b[0m attacks \u001b[38;5;241m=\u001b[39m get_attacks(cfg, \u001b[38;5;241m0.05\u001b[39m, \u001b[43mn_steps_list\u001b[49m, model_mixed) \u001b[38;5;66;03m# Атакуем градиентами новой модели\u001b[39;00m\n\u001b[1;32m      2\u001b[0m \u001b[38;5;66;03m# attacks = get_attacks(cfg, 0.05, n_steps_list, model_orig) # Атакуем градиентами оригинальной модели\u001b[39;00m\n\u001b[1;32m      4\u001b[0m X_test \u001b[38;5;241m=\u001b[39m test_loader\u001b[38;5;241m.\u001b[39mdataset\u001b[38;5;241m.\u001b[39mX\n",
      "\u001b[0;31mNameError\u001b[0m: name 'n_steps_list' is not defined"
     ]
    }
   ],
   "source": [
    "attacks = get_attacks(cfg, 0.05, n_steps_list, model_mixed) # Атакуем градиентами новой модели\n",
    "# attacks = get_attacks(cfg, 0.05, n_steps_list, model_orig) # Атакуем градиентами оригинальной модели\n",
    "\n",
    "X_test = test_loader.dataset.X\n",
    "y_test = test_loader.dataset.y\n",
    "\n",
    "attacked_test = {}\n",
    "\n",
    "for attack in attacks:\n",
    "    X_adv = attack.apply_attack(test_loader).squeeze()\n",
    "    attacked_test[attack.n_steps] = X_adv"
   ]
  },
  {
   "cell_type": "markdown",
   "id": "755ed4f0-b1f6-4e09-b79b-f1a73864ddef",
   "metadata": {},
   "source": [
    "# Comparison"
   ]
  },
  {
   "cell_type": "code",
   "execution_count": null,
   "id": "4a660054-c00a-4bd6-89f6-6f3c3fd43c00",
   "metadata": {},
   "outputs": [],
   "source": [
    "from sklearn.metrics import roc_auc_score"
   ]
  },
  {
   "cell_type": "code",
   "execution_count": null,
   "id": "977e96b2-bcd7-4bc1-9801-cf8e96939932",
   "metadata": {},
   "outputs": [],
   "source": [
    "criterion = torch.nn.BCELoss()\n",
    "\n",
    "test_samples = attacked_test[20].unsqueeze(-1).to(device) ###### шаги атаки\n",
    "\n",
    "preds_orig = model_orig(test_samples) \n",
    "preds_mixed = model_mixed(test_samples)"
   ]
  },
  {
   "cell_type": "code",
   "execution_count": null,
   "id": "8a049972-8f7f-4c6d-926b-8e6a60d998c2",
   "metadata": {},
   "outputs": [],
   "source": [
    "print(\n",
    "    criterion(preds_orig, y_test.float().to(device)).item(),\n",
    "    criterion(preds_mixed, y_test.float().to(device)).item()\n",
    ")"
   ]
  },
  {
   "cell_type": "code",
   "execution_count": null,
   "id": "90203f67-ffe2-4535-b195-18e22feff1f6",
   "metadata": {},
   "outputs": [],
   "source": [
    "roc_auc_score(y_test, preds_orig.cpu().detach().numpy()) # 0.06807"
   ]
  },
  {
   "cell_type": "code",
   "execution_count": null,
   "id": "98fcd151-bd1a-45c1-a46c-a0598e73fa97",
   "metadata": {},
   "outputs": [],
   "source": [
    "roc_auc_score(y_test, preds_mixed.cpu().detach().numpy()) # 0.1283"
   ]
  },
  {
   "cell_type": "markdown",
   "id": "b1a16133-aa11-4f3f-9b2c-6237d5046bd7",
   "metadata": {},
   "source": [
    "# PCA"
   ]
  },
  {
   "cell_type": "code",
   "execution_count": 77,
   "id": "d55293c0-6777-4a57-9c59-5fe0c697c348",
   "metadata": {},
   "outputs": [],
   "source": [
    "from matplotlib import pyplot as plt\n",
    "from sklearn.manifold import TSNE\n",
    "\n",
    "from plotly.express import scatter"
   ]
  },
  {
   "cell_type": "code",
   "execution_count": 95,
   "id": "cb0d48a4-7258-4edc-a9e8-6bd53f87c6c4",
   "metadata": {},
   "outputs": [],
   "source": [
    "X_test_mixed = torch.cat([X_test, attacked_test[5]]) ###### шаги атаки\n",
    "labels = model_orig(X_test_mixed.unsqueeze(-1).to(device))\n",
    "\n",
    "types = torch.cat([torch.zeros_like(y_test), torch.ones_like(y_test)])"
   ]
  },
  {
   "cell_type": "code",
   "execution_count": 96,
   "id": "966da6c1-06c2-469e-83b8-76a968f7e1b2",
   "metadata": {},
   "outputs": [],
   "source": [
    "modify = TSNE(2, perplexity=20)"
   ]
  },
  {
   "cell_type": "code",
   "execution_count": 97,
   "id": "0ebfbe31-6320-4c63-a68b-82fd8b2c2549",
   "metadata": {},
   "outputs": [],
   "source": [
    "new_data = modify.fit_transform(X_test_mixed)"
   ]
  },
  {
   "cell_type": "code",
   "execution_count": 98,
   "id": "ae326e07-24e7-4621-b8b1-cd979f7d22ad",
   "metadata": {},
   "outputs": [
    {
     "data": {
      "application/vnd.plotly.v1+json": {
       "config": {
        "plotlyServerURL": "https://plot.ly"
       },
       "data": [
        {
         "hovertemplate": "symbol=0<br>x=%{x}<br>y=%{y}<br>color=%{marker.color}<extra></extra>",
         "legendgroup": "0",
         "marker": {
          "color": [
           0.001100114081054926,
           0.06893564015626907,
           0.933200478553772,
           0.036567848175764084,
           0.1324915587902069,
           0.0011672071414068341,
           0.001755507430061698,
           0.04067929834127426,
           0.00254443078301847,
           0.022114573046565056,
           0.015934711322188377,
           0.005358376074582338,
           0.0024073284585028887,
           0.4308699667453766,
           0.005188295152038336,
           0.02786913327872753,
           0.2602991759777069,
           0.26454824209213257,
           0.00038075089105404913,
           0.05227663740515709,
           0.06897307932376862,
           0.20426516234874725,
           0.029233107343316078,
           0.02712865173816681,
           0.0002886122092604637,
           2.0922816474922e-06,
           0.011038669385015965,
           0.013987578451633453,
           0.03009248524904251,
           0.0023523541167378426,
           0.9970631003379822,
           0.9987969398498535,
           0.9999405145645142,
           0.9996908903121948,
           0.999882698059082,
           0.9980606436729431,
           0.9930779337882996,
           0.9983125925064087,
           0.9999902248382568,
           1,
           0.9978817105293274,
           0.9972155094146729,
           0.9998496770858765,
           0.9986648559570312,
           0.9998470544815063,
           0.9997557997703552,
           0.6927124261856079,
           0.9892194867134094,
           0.9999885559082031,
           0.9997610449790955,
           0.9579929709434509,
           0.97076416015625,
           0.9891656041145325,
           0.997072696685791,
           0.9999986886978149,
           0.9851058721542358,
           0.9999998807907104,
           0.9999969005584717,
           0.9985162615776062,
           0.9999915361404419,
           0.0013465770753100514,
           0.00019375741248950362,
           0.0002886122092604637,
           0.02654889225959778,
           0.013341029174625874,
           0.15022706985473633,
           0.0011672071414068341,
           0.010071334429085255,
           0.6087990999221802,
           0.006712769158184528,
           0.02215893566608429,
           0.015934711322188377,
           0.060951389372348785,
           0.0020514363422989845,
           0.0016375998966395855,
           0.013979168608784676,
           0.00010773308895295486,
           0.014961506240069866,
           0.0004928865819238126,
           0.06893564015626907,
           0.3419669568538666,
           0.05718420445919037,
           0.005358376074582338,
           0.28169265389442444,
           0.002538041677325964,
           0.012987826019525528,
           0.027177097275853157,
           0.004068255424499512,
           0.33065226674079895,
           0.1072307899594307,
           0.999913215637207,
           0.9999557733535767,
           0.9891304969787598,
           0.9972155094146729,
           0.9999915361404419,
           0.9999967813491821,
           0.9995728135108948,
           0.9963894486427307,
           1,
           0.9998319149017334,
           1,
           0.9999405145645142,
           0.9978764057159424,
           0.9998719692230225,
           0.9983125925064087,
           0.9999969005584717,
           0.9978817105293274,
           0.9999170303344727,
           0.9999053478240967,
           0.9280632734298706,
           0.9891656041145325,
           0.9970631003379822,
           0.9999988079071045,
           0.9999958276748657,
           0.9997610449790955,
           1,
           0.9493535161018372,
           0.9998155236244202,
           0.9996629953384399,
           0.9995346069335938,
           0.26454824209213257,
           0.0013844814384356141,
           0.03138446807861328,
           0.04067929834127426,
           0.0002886122092604637,
           0.4406473934650421,
           0.07801254093647003,
           0.06897307932376862,
           0.0013465770753100514,
           0.038519781082868576,
           0.02712865173816681,
           0.0012837443500757217,
           0.03009248524904251,
           0.004232964012771845,
           0.009728686884045601,
           0.06893564015626907,
           0.04622546210885048,
           0.1363433599472046,
           0.026492532342672348,
           0.06819722801446915,
           0.022114573046565056,
           0.15022706985473633,
           0.006224480457603931,
           0.013987578451633453,
           0.016267141327261925,
           0.0006564423092640936,
           0.0020514363422989845,
           0.1107454001903534,
           0.7596737742424011,
           0.0016375998966395855,
           0.9999988079071045,
           0.9997654557228088,
           0.9999641180038452,
           0.6927124261856079,
           0.954315185546875,
           0.9984495639801025,
           0.9999279975891113,
           0.9943338632583618,
           0.9997084736824036,
           0.9963701963424683,
           0.9845050573348999,
           0.9978764057159424,
           0.9999680519104004,
           0.9999921321868896,
           0.997133731842041,
           0.9999958276748657,
           0.9998724460601807,
           0.9930779337882996,
           0.9998961687088013,
           0.9999778270721436,
           0.9989272952079773,
           0.9999783039093018,
           0.9891304969787598,
           0.9996908903121948,
           0.999908447265625,
           0.9999990463256836,
           0.9493535161018372,
           1,
           0.9999935626983643,
           1
          ],
          "coloraxis": "coloraxis",
          "symbol": "circle"
         },
         "mode": "markers",
         "name": "0",
         "orientation": "v",
         "showlegend": true,
         "type": "scatter",
         "x": [
          -63.22538375854492,
          -57.96409225463867,
          -40.74118423461914,
          -47.550113677978516,
          -34.30424499511719,
          -26.763288497924805,
          -33.75046157836914,
          -26.924766540527344,
          -12.142186164855957,
          -19.91134262084961,
          -30.71251678466797,
          -9.17485523223877,
          -2.862849712371826,
          -70.00596618652344,
          -0.19918175041675568,
          -59.8942985534668,
          -42.436500549316406,
          -49.071746826171875,
          -17.4242000579834,
          -48.14194107055664,
          -60.14720916748047,
          -63.44331359863281,
          -58.4731330871582,
          -65.2502212524414,
          -26.68547821044922,
          -22.04796028137207,
          -56.37057876586914,
          -49.31190872192383,
          -35.5638427734375,
          54.12126541137695,
          63.76132583618164,
          5.386663913726807,
          43.4193000793457,
          25.152544021606445,
          72.76404571533203,
          15.691183090209961,
          64.12068176269531,
          55.661495208740234,
          32.426048278808594,
          38.83798599243164,
          15.581636428833008,
          11.351530075073242,
          16.498571395874023,
          13.471221923828125,
          28.7628231048584,
          48.29553985595703,
          63.588375091552734,
          -25.413358688354492,
          36.29669952392578,
          39.99403381347656,
          12.092679977416992,
          -38.70233154296875,
          -6.319983005523682,
          50.69512939453125,
          17.065521240234375,
          -11.443937301635742,
          51.49323272705078,
          33.77915573120117,
          5.258049011230469,
          33.70780563354492,
          -14.379850387573242,
          -25.91952133178711,
          -26.68547821044922,
          -62.904151916503906,
          7.014213562011719,
          0.7373655438423157,
          -26.763288497924805,
          -9.061970710754395,
          -65.00167846679688,
          14.05300235748291,
          -52.20479202270508,
          -29.213111877441406,
          -16.434354782104492,
          -57.62641525268555,
          -16.365036010742188,
          -7.189917087554932,
          -49.188167572021484,
          -10.881000518798828,
          -22.264328002929688,
          -59.53362274169922,
          -9.233573913574219,
          -72.22808837890625,
          -10.374687194824219,
          -3.8599743843078613,
          -59.13703155517578,
          -7.489426612854004,
          -51.886924743652344,
          19.833600997924805,
          -67.32254028320312,
          -43.86574935913086,
          61.448524475097656,
          46.482112884521484,
          54.35647201538086,
          13.013649940490723,
          34.29357147216797,
          44.777950286865234,
          14.079582214355469,
          62.97715759277344,
          47.87963104248047,
          48.74882888793945,
          41.49517822265625,
          43.68586349487305,
          31.5086669921875,
          28.097509384155273,
          54.573917388916016,
          34.19744873046875,
          15.581636428833008,
          38.70219421386719,
          18.897010803222656,
          16.650772094726562,
          -6.319983005523682,
          63.76132583618164,
          9.96532154083252,
          49.904945373535156,
          39.99403381347656,
          43.29161071777344,
          -2.4229605197906494,
          41.60553741455078,
          59.33165740966797,
          20.67088508605957,
          -49.81678771972656,
          -62.06770706176758,
          -67.32032012939453,
          -28.095327377319336,
          -26.764379501342773,
          -68.49830627441406,
          -65.7243881225586,
          -59.36235809326172,
          -14.346928596496582,
          -59.020286560058594,
          -63.81278610229492,
          -60.12513732910156,
          -36.705169677734375,
          -5.383730888366699,
          -45.852081298828125,
          -59.53362274169922,
          70.73568725585938,
          -55.685943603515625,
          -55.28981399536133,
          -2.715364694595337,
          -21.13269805908203,
          1.130941390991211,
          -14.298629760742188,
          -49.31190872192383,
          -14.233708381652832,
          0.0073976460844278336,
          -57.62641525268555,
          -41.7021598815918,
          -3.7453713417053223,
          -16.237947463989258,
          9.96532154083252,
          10.394573211669922,
          34.14842987060547,
          64.91218566894531,
          5.182290077209473,
          69.14547729492188,
          12.058093070983887,
          9.846304893493652,
          47.247928619384766,
          19.317909240722656,
          46.48288345336914,
          29.810998916625977,
          35.53778076171875,
          17.61713218688965,
          9.717544555664062,
          49.904945373535156,
          26.783321380615234,
          64.12068176269531,
          58.55867004394531,
          21.304954528808594,
          5.648035526275635,
          30.414283752441406,
          54.35647201538086,
          24.657529830932617,
          27.25418472290039,
          23.19266700744629,
          -3.0858449935913086,
          38.1062126159668,
          63.78427505493164,
          41.10012435913086
         ],
         "xaxis": "x",
         "y": [
          25.293060302734375,
          -6.074336528778076,
          -10.720651626586914,
          -3.8346612453460693,
          3.1649398803710938,
          22.492464065551758,
          9.301857948303223,
          -1.0820637941360474,
          -16.07535171508789,
          -10.608553886413574,
          -11.773351669311523,
          5.560030937194824,
          20.263805389404297,
          -1.7345796823501587,
          1.589927315711975,
          5.5761284828186035,
          -5.753098964691162,
          -15.43079662322998,
          -17.444562911987305,
          9.181519508361816,
          -1.4994611740112305,
          -2.8400604724884033,
          13.987457275390625,
          9.845215797424316,
          5.908806800842285,
          2.3013710975646973,
          23.487638473510742,
          3.33202862739563,
          -4.631778240203857,
          -9.40811824798584,
          16.064266204833984,
          -5.285809516906738,
          7.97898530960083,
          5.640183448791504,
          5.271279811859131,
          -15.706501960754395,
          27.216453552246094,
          12.43373966217041,
          -3.477276563644409,
          -13.29192066192627,
          2.0556540489196777,
          -5.650169372558594,
          -4.549605369567871,
          -11.071786880493164,
          0.8050763607025146,
          12.407402038574219,
          -12.731386184692383,
          -16.965803146362305,
          -0.9148826003074646,
          1.1305888891220093,
          13.376996994018555,
          -17.150815963745117,
          -21.972105026245117,
          19.14162826538086,
          -40.42805480957031,
          28.221656799316406,
          27.256711959838867,
          9.433225631713867,
          -13.459371566772461,
          3.5946223735809326,
          -25.925626754760742,
          -6.201755523681641,
          5.908806800842285,
          -4.919588088989258,
          15.24003791809082,
          13.976642608642578,
          22.492464065551758,
          15.28816032409668,
          15.81495189666748,
          26.382349014282227,
          5.340949058532715,
          -11.076384544372559,
          -6.912631988525391,
          30.32461929321289,
          14.437158584594727,
          -4.743360996246338,
          31.71465492248535,
          -5.265449047088623,
          -3.975424289703369,
          -5.001946926116943,
          9.659749031066895,
          -8.361302375793457,
          4.548947811126709,
          11.606683731079102,
          24.615205764770508,
          -10.74722957611084,
          21.230384826660156,
          25.23247718811035,
          2.587826728820801,
          0.3798404037952423,
          1.6021109819412231,
          -25.976211547851562,
          -3.442354440689087,
          -5.613386154174805,
          2.0188636779785156,
          -0.47647860646247864,
          -20.84827995300293,
          -1.8476176261901855,
          -21.62354278564453,
          -1.8589239120483398,
          20.53117561340332,
          6.3464837074279785,
          -14.710753440856934,
          -26.58552360534668,
          13.843768119812012,
          7.823034286499023,
          2.0556540489196777,
          -26.247835159301758,
          -24.688974380493164,
          -28.764299392700195,
          -21.972105026245117,
          16.064266204833984,
          -38.061431884765625,
          2.814682960510254,
          1.1305888891220093,
          -22.31585121154785,
          -17.06749725341797,
          -5.423218250274658,
          24.802108764648438,
          -3.7955126762390137,
          -14.047840118408203,
          20.327184677124023,
          -4.750707626342773,
          -0.002233318518847227,
          7.932686805725098,
          1.5448237657546997,
          -9.06124210357666,
          -0.34777122735977173,
          -24.190792083740234,
          3.1861519813537598,
          9.209800720214844,
          28.144086837768555,
          -3.6092684268951416,
          0.3885819911956787,
          5.963913440704346,
          -5.001946926116943,
          18.690242767333984,
          -2.10007905960083,
          26.499290466308594,
          -2.0291783809661865,
          -11.590502738952637,
          15.614706993103027,
          -10.413143157958984,
          3.33202862739563,
          -0.4028993248939514,
          -34,
          30.32461929321289,
          6.541683197021484,
          -6.273393154144287,
          12.84687614440918,
          -38.061431884765625,
          -30.95838737487793,
          14.171515464782715,
          -13.753125190734863,
          7.1734161376953125,
          22.497461318969727,
          -23.83045196533203,
          -16.3112850189209,
          -15.12752628326416,
          16.943519592285156,
          -7.96541690826416,
          -14.788528442382812,
          -6.909808158874512,
          -8.798932075500488,
          -10.070575714111328,
          2.814682960510254,
          17.97300910949707,
          27.216453552246094,
          3.9877381324768066,
          -19.194007873535156,
          -25.201139450073242,
          -11.108633995056152,
          -3.442354440689087,
          7.175402641296387,
          -4.658464431762695,
          -11.797242164611816,
          -18.568056106567383,
          23.5849609375,
          6.640717506408691,
          13.2384614944458
         ],
         "yaxis": "y"
        },
        {
         "hovertemplate": "symbol=1<br>x=%{x}<br>y=%{y}<br>color=%{marker.color}<extra></extra>",
         "legendgroup": "1",
         "marker": {
          "color": [
           0.28138259053230286,
           0.9624954462051392,
           0.9999269247055054,
           0.9861730933189392,
           0.9990813732147217,
           0.39272913336753845,
           0.7388852834701538,
           0.9845644235610962,
           0.9886082410812378,
           0.9920765161514282,
           0.9802358150482178,
           0.99001544713974,
           0.7319505214691162,
           0.9963595271110535,
           0.9864930510520935,
           0.9433392286300659,
           0.998141884803772,
           0.9975969195365906,
           0.6349908709526062,
           0.9848302602767944,
           0.981899619102478,
           0.9905407428741455,
           0.8707537055015564,
           0.9711913466453552,
           0.6077273488044739,
           0.020926037803292274,
           0.8591318726539612,
           0.9791643619537354,
           0.966482937335968,
           0.9311959743499756,
           0.4552913308143616,
           0.18105316162109375,
           0.7179412841796875,
           0.5961706638336182,
           0.46058374643325806,
           0.14987528324127197,
           0.17287813127040863,
           0.23064465820789337,
           0.9838617444038391,
           1,
           0.02547823265194893,
           0.012598182074725628,
           0.28146490454673767,
           0.04311443865299225,
           0.38512107729911804,
           0.6880003213882446,
           0.0011822714004665613,
           0.0085466168820858,
           0.848805844783783,
           0.5256335735321045,
           0.017115533351898193,
           0.014469458721578121,
           0.006317486055195332,
           0.184212788939476,
           0.9963513612747192,
           0.02856285497546196,
           0.9976065158843994,
           0.9953018426895142,
           0.08064792305231094,
           0.9639953970909119,
           0.8634722828865051,
           0.4288790225982666,
           0.6077273488044739,
           0.9521874785423279,
           0.9848237037658691,
           0.9989529848098755,
           0.39272913336753845,
           0.9552847146987915,
           0.9996703863143921,
           0.8540533185005188,
           0.964168906211853,
           0.9802358150482178,
           0.9971388578414917,
           0.39550331234931946,
           0.6371540427207947,
           0.9851580262184143,
           0.02277212403714657,
           0.9712702631950378,
           0.6195113658905029,
           0.9624954462051392,
           0.9997127652168274,
           0.993473470211029,
           0.99001544713974,
           0.9987033605575562,
           0.4080529808998108,
           0.9880092740058899,
           0.920497715473175,
           0.8879982829093933,
           0.9796386957168579,
           0.9931504130363464,
           0.6051350235939026,
           0.7810378074645996,
           0.009412220679223537,
           0.012598182074725628,
           0.9639953970909119,
           0.9792750477790833,
           0.4560841917991638,
           0.01863499917089939,
           1,
           0.3555426001548767,
           1,
           0.7179412841796875,
           0.03427152708172798,
           0.5832086205482483,
           0.23064465820789337,
           0.9953018426895142,
           0.02547823265194893,
           0.39973703026771545,
           0.6599355936050415,
           0.0018344188574701548,
           0.006317486055195332,
           0.4552913308143616,
           0.9987561702728271,
           0.9826671481132507,
           0.5256335735321045,
           1,
           0.0012928310316056013,
           0.8542417883872986,
           0.6595960259437561,
           0.32070574164390564,
           0.9975969195365906,
           0.5507472157478333,
           0.9913683533668518,
           0.9845644235610962,
           0.6077273488044739,
           0.9937406182289124,
           0.9764324426651001,
           0.981899619102478,
           0.8634722828865051,
           0.9599879384040833,
           0.9711913466453552,
           0.3486705422401428,
           0.966482937335968,
           0.9189863801002502,
           0.9290658235549927,
           0.9624954462051392,
           0.9892978668212891,
           0.9827085137367249,
           0.8833179473876953,
           0.9970007538795471,
           0.9920765161514282,
           0.9989529848098755,
           0.9705431461334229,
           0.9791643619537354,
           0.9925069212913513,
           0.7990849614143372,
           0.39550331234931946,
           0.9928734302520752,
           0.999687910079956,
           0.6371540427207947,
           0.9987561702728271,
           0.6802973747253418,
           0.876394510269165,
           0.0011822714004665613,
           0.01685699261724949,
           0.37856292724609375,
           0.8652665615081787,
           0.08151911199092865,
           0.15157949924468994,
           0.09986533969640732,
           0.023635022342205048,
           0.03427152708172798,
           0.5578941702842712,
           0.9865080118179321,
           0.027755320072174072,
           0.9826671481132507,
           0.6765795946121216,
           0.17287813127040863,
           0.7975834012031555,
           0.911290168762207,
           0.14829012751579285,
           0.7961676120758057,
           0.009412220679223537,
           0.5961706638336182,
           0.723978579044342,
           0.9971862435340881,
           0.0012928310316056013,
           1,
           0.9542070627212524,
           1
          ],
          "coloraxis": "coloraxis",
          "symbol": "diamond"
         },
         "mode": "markers",
         "name": "1",
         "orientation": "v",
         "showlegend": true,
         "type": "scatter",
         "x": [
          -64.22193145751953,
          -60.67288589477539,
          -41.90546798706055,
          -48.127140045166016,
          -34.71929168701172,
          -28.36292266845703,
          -34.72603225708008,
          -28.96070671081543,
          -13.193270683288574,
          -22.398990631103516,
          -30.815887451171875,
          -11.958346366882324,
          -4.088172435760498,
          -71.33457946777344,
          -1.2086338996887207,
          -61.57036590576172,
          -43.0767707824707,
          -51.589149475097656,
          -18.481613159179688,
          -49.37137985229492,
          -62.40728759765625,
          -64.7952880859375,
          -59.11977005004883,
          -65.6673583984375,
          -29.228883743286133,
          -22.4556827545166,
          -56.50725555419922,
          -49.023048400878906,
          -37.936126708984375,
          53.91390609741211,
          63.19345474243164,
          6.027945518493652,
          45.57590866088867,
          26.46483612060547,
          72.44444274902344,
          16.87474822998047,
          64.68807220458984,
          56.59468078613281,
          32.79570770263672,
          38.83798599243164,
          17.684946060180664,
          12.665026664733887,
          16.140588760375977,
          14.337395668029785,
          29.714706420898438,
          49.355262756347656,
          64.71629333496094,
          -25.9823055267334,
          37.40879821777344,
          41.26192092895508,
          12.885050773620605,
          -38.0914306640625,
          -4.337157249450684,
          51.81077575683594,
          18.253360748291016,
          -10.334136009216309,
          52.58539962768555,
          36.16566467285156,
          5.9720072746276855,
          35.871185302734375,
          -16.318912506103516,
          -25.225313186645508,
          -29.004619598388672,
          -64.68133544921875,
          6.294471740722656,
          -0.9986872673034668,
          -28.36292266845703,
          -10.142939567565918,
          -66.10472106933594,
          13.382359504699707,
          -53.001853942871094,
          -30.815887451171875,
          -17.63700294494629,
          -58.04176330566406,
          -18.24129295349121,
          -7.500047206878662,
          -49.260440826416016,
          -11.595108985900879,
          -22.353059768676758,
          -60.67288589477539,
          -10.558427810668945,
          -73.03498840332031,
          -10.76707935333252,
          -5.015810012817383,
          -59.766258239746094,
          -8.653849601745605,
          -51.526649475097656,
          19.02022361755371,
          -69.57197570800781,
          -45.169456481933594,
          62.62151336669922,
          47.45417785644531,
          55.25849914550781,
          11.009127616882324,
          35.871185302734375,
          44.85987091064453,
          13.495080947875977,
          64.07162475585938,
          48.825523376464844,
          49.92976760864258,
          41.49517822265625,
          45.342620849609375,
          31.72789192199707,
          28.982112884521484,
          56.59468078613281,
          35.746681213378906,
          17.684946060180664,
          37.616275787353516,
          19.975940704345703,
          17.70472526550293,
          -5.681914329528809,
          63.19345474243164,
          12.033909797668457,
          51.992271423339844,
          39.69222640991211,
          43.28120803833008,
          -0.6773709654808044,
          41.79224395751953,
          59.951419830322266,
          21.549455642700195,
          -50.83884048461914,
          -63.19065856933594,
          -66.46287536621094,
          -28.96070671081543,
          -29.228883743286133,
          -70.6952896118164,
          -66.9041519165039,
          -62.40728759765625,
          -16.318912506103516,
          -61.03815841674805,
          -65.6673583984375,
          -61.464298248291016,
          -36.8116455078125,
          -6.022097110748291,
          -45.735565185546875,
          -60.67288589477539,
          71.62580108642578,
          -55.40250015258789,
          -54.12714385986328,
          -3.893218517303467,
          -21.146085739135742,
          -0.9986872673034668,
          -15.4215726852417,
          -50.50383758544922,
          -15.26483154296875,
          -1.0316118001937866,
          -59.51958465576172,
          -41.65114212036133,
          -3.9807205200195312,
          -18.375404357910156,
          12.033909797668457,
          11.498249053955078,
          35.244895935058594,
          66.05311584472656,
          6.291004657745361,
          68.18126678466797,
          11.362351417541504,
          11.037039756774902,
          46.230987548828125,
          20.010581970214844,
          47.43925476074219,
          30.03397560119629,
          36.6468620300293,
          18.586597442626953,
          9.61405086517334,
          51.16793441772461,
          27.061355590820312,
          64.68807220458984,
          58.97805404663086,
          22.41840171813965,
          5.898205280303955,
          31.72144889831543,
          55.25849914550781,
          26.959749221801758,
          28.308286666870117,
          23.762264251708984,
          -1.333558440208435,
          37.42484664916992,
          63.234649658203125,
          41.93787384033203
         ],
         "xaxis": "x",
         "y": [
          24.21717643737793,
          -8.192352294921875,
          -10.845061302185059,
          -2.692214250564575,
          4.208439350128174,
          21.190753936767578,
          8.61115550994873,
          -2.0124428272247314,
          -15.39830207824707,
          -10.021413803100586,
          -9.5452880859375,
          5.977725982666016,
          20.323375701904297,
          -2.5191006660461426,
          2.2096216678619385,
          4.85982608795166,
          -6.7755842208862305,
          -15.000626564025879,
          -16.96946144104004,
          8.849184036254883,
          0.32138898968696594,
          -1.3541353940963745,
          13.010856628417969,
          7.290521621704102,
          5.971722602844238,
          1.1597790718078613,
          22.10496711730957,
          0.8867692351341248,
          -5.196284770965576,
          -10.492563247680664,
          18.002307891845703,
          -4.334142208099365,
          6.458158493041992,
          7.818774700164795,
          6.339142799377441,
          -15.456334114074707,
          25.241342544555664,
          14.296882629394531,
          -2.2689783573150635,
          -13.29192066192627,
          1.8498358726501465,
          -3.6051883697509766,
          -3.26601505279541,
          -10.272296905517578,
          1.5119142532348633,
          11.90759563446045,
          -11.277360916137695,
          -17.991947174072266,
          -1.4487318992614746,
          2.8505070209503174,
          12.546077728271484,
          -18.111122131347656,
          -22.803382873535156,
          19.264699935913086,
          -40.308982849121094,
          28.29093360900879,
          27.115581512451172,
          8.182257652282715,
          -12.474570274353027,
          3.5057899951934814,
          -25.023900985717773,
          -5.114603042602539,
          7.991625785827637,
          -5.14961576461792,
          16.166400909423828,
          15.306142807006836,
          21.190753936767578,
          15.696158409118652,
          15.2471923828125,
          27.2872257232666,
          3.976853847503662,
          -9.5452880859375,
          -7.402831554412842,
          32.46951675415039,
          12.67009449005127,
          -6.1029839515686035,
          30.486896514892578,
          -6.384974002838135,
          -5.268247127532959,
          -8.192352294921875,
          10.086357116699219,
          -7.3653082847595215,
          6.892142295837402,
          12.010222434997559,
          23.228527069091797,
          -10.321512222290039,
          20.08904457092285,
          26.026025772094727,
          3.860886573791504,
          0.02345907874405384,
          2.0164055824279785,
          -26.707265853881836,
          -1.5690683126449585,
          -3.7014760971069336,
          3.5057899951934814,
          0.7828555703163147,
          -19.692434310913086,
          -1.4008979797363281,
          -22.2209415435791,
          -2.054645538330078,
          20.53117561340332,
          8.108338356018066,
          -16.58232307434082,
          -25.940752029418945,
          14.296882629394531,
          9.783285140991211,
          1.8498358726501465,
          -26.009708404541016,
          -25.154373168945312,
          -29.19723129272461,
          -24.00433349609375,
          18.002307891845703,
          -38.21296691894531,
          2.9249634742736816,
          3.328111171722412,
          -21.19021987915039,
          -17.899171829223633,
          -4.296748161315918,
          23.834190368652344,
          -2.982175827026367,
          -16.39743995666504,
          19.749624252319336,
          -3.2582032680511475,
          -2.0124428272247314,
          5.971722602844238,
          2.4488747119903564,
          -8.022717475891113,
          0.32138898968696594,
          -25.023900985717773,
          2.8010804653167725,
          7.290521621704102,
          28.88184928894043,
          -6.236065864562988,
          -0.7798087000846863,
          4.5597100257873535,
          -8.192352294921875,
          19.429773330688477,
          -0.6774726510047913,
          26.075220108032227,
          -2.7265172004699707,
          -9.037515640258789,
          15.306142807006836,
          -10.86291790008545,
          1.038285493850708,
          -0.8754522800445557,
          -33.57917785644531,
          31.614822387695312,
          5.309072971343994,
          -7.524035930633545,
          14.253020286560059,
          -38.21296691894531,
          -30.58475685119629,
          14.632611274719238,
          -12.305505752563477,
          7.112371921539307,
          21.774864196777344,
          -22.874711990356445,
          -16.322189331054688,
          -14.711177825927734,
          16.081525802612305,
          -8.518744468688965,
          -16.689773559570312,
          -7.249770641326904,
          -8.041180610656738,
          -8.822126388549805,
          4.494544506072998,
          16.88066291809082,
          25.241342544555664,
          5.0712761878967285,
          -18.998811721801758,
          -24.12105941772461,
          -11.26953125,
          -1.5690683126449585,
          6.272827625274658,
          -5.126542091369629,
          -10.824214935302734,
          -19.429563522338867,
          22.6568546295166,
          7.620357990264893,
          13.962386131286621
         ],
         "yaxis": "y"
        }
       ],
       "layout": {
        "autosize": true,
        "coloraxis": {
         "colorbar": {
          "title": {
           "text": "color"
          }
         },
         "colorscale": [
          [
           0,
           "rgb(0,0,255)"
          ],
          [
           1,
           "rgb(255,0,0)"
          ]
         ]
        },
        "legend": {
         "title": {
          "text": "symbol"
         },
         "tracegroupgap": 0
        },
        "margin": {
         "t": 60
        },
        "template": {
         "data": {
          "bar": [
           {
            "error_x": {
             "color": "#2a3f5f"
            },
            "error_y": {
             "color": "#2a3f5f"
            },
            "marker": {
             "line": {
              "color": "#E5ECF6",
              "width": 0.5
             },
             "pattern": {
              "fillmode": "overlay",
              "size": 10,
              "solidity": 0.2
             }
            },
            "type": "bar"
           }
          ],
          "barpolar": [
           {
            "marker": {
             "line": {
              "color": "#E5ECF6",
              "width": 0.5
             },
             "pattern": {
              "fillmode": "overlay",
              "size": 10,
              "solidity": 0.2
             }
            },
            "type": "barpolar"
           }
          ],
          "carpet": [
           {
            "aaxis": {
             "endlinecolor": "#2a3f5f",
             "gridcolor": "white",
             "linecolor": "white",
             "minorgridcolor": "white",
             "startlinecolor": "#2a3f5f"
            },
            "baxis": {
             "endlinecolor": "#2a3f5f",
             "gridcolor": "white",
             "linecolor": "white",
             "minorgridcolor": "white",
             "startlinecolor": "#2a3f5f"
            },
            "type": "carpet"
           }
          ],
          "choropleth": [
           {
            "colorbar": {
             "outlinewidth": 0,
             "ticks": ""
            },
            "type": "choropleth"
           }
          ],
          "contour": [
           {
            "colorbar": {
             "outlinewidth": 0,
             "ticks": ""
            },
            "colorscale": [
             [
              0,
              "#0d0887"
             ],
             [
              0.1111111111111111,
              "#46039f"
             ],
             [
              0.2222222222222222,
              "#7201a8"
             ],
             [
              0.3333333333333333,
              "#9c179e"
             ],
             [
              0.4444444444444444,
              "#bd3786"
             ],
             [
              0.5555555555555556,
              "#d8576b"
             ],
             [
              0.6666666666666666,
              "#ed7953"
             ],
             [
              0.7777777777777778,
              "#fb9f3a"
             ],
             [
              0.8888888888888888,
              "#fdca26"
             ],
             [
              1,
              "#f0f921"
             ]
            ],
            "type": "contour"
           }
          ],
          "contourcarpet": [
           {
            "colorbar": {
             "outlinewidth": 0,
             "ticks": ""
            },
            "type": "contourcarpet"
           }
          ],
          "heatmap": [
           {
            "colorbar": {
             "outlinewidth": 0,
             "ticks": ""
            },
            "colorscale": [
             [
              0,
              "#0d0887"
             ],
             [
              0.1111111111111111,
              "#46039f"
             ],
             [
              0.2222222222222222,
              "#7201a8"
             ],
             [
              0.3333333333333333,
              "#9c179e"
             ],
             [
              0.4444444444444444,
              "#bd3786"
             ],
             [
              0.5555555555555556,
              "#d8576b"
             ],
             [
              0.6666666666666666,
              "#ed7953"
             ],
             [
              0.7777777777777778,
              "#fb9f3a"
             ],
             [
              0.8888888888888888,
              "#fdca26"
             ],
             [
              1,
              "#f0f921"
             ]
            ],
            "type": "heatmap"
           }
          ],
          "heatmapgl": [
           {
            "colorbar": {
             "outlinewidth": 0,
             "ticks": ""
            },
            "colorscale": [
             [
              0,
              "#0d0887"
             ],
             [
              0.1111111111111111,
              "#46039f"
             ],
             [
              0.2222222222222222,
              "#7201a8"
             ],
             [
              0.3333333333333333,
              "#9c179e"
             ],
             [
              0.4444444444444444,
              "#bd3786"
             ],
             [
              0.5555555555555556,
              "#d8576b"
             ],
             [
              0.6666666666666666,
              "#ed7953"
             ],
             [
              0.7777777777777778,
              "#fb9f3a"
             ],
             [
              0.8888888888888888,
              "#fdca26"
             ],
             [
              1,
              "#f0f921"
             ]
            ],
            "type": "heatmapgl"
           }
          ],
          "histogram": [
           {
            "marker": {
             "pattern": {
              "fillmode": "overlay",
              "size": 10,
              "solidity": 0.2
             }
            },
            "type": "histogram"
           }
          ],
          "histogram2d": [
           {
            "colorbar": {
             "outlinewidth": 0,
             "ticks": ""
            },
            "colorscale": [
             [
              0,
              "#0d0887"
             ],
             [
              0.1111111111111111,
              "#46039f"
             ],
             [
              0.2222222222222222,
              "#7201a8"
             ],
             [
              0.3333333333333333,
              "#9c179e"
             ],
             [
              0.4444444444444444,
              "#bd3786"
             ],
             [
              0.5555555555555556,
              "#d8576b"
             ],
             [
              0.6666666666666666,
              "#ed7953"
             ],
             [
              0.7777777777777778,
              "#fb9f3a"
             ],
             [
              0.8888888888888888,
              "#fdca26"
             ],
             [
              1,
              "#f0f921"
             ]
            ],
            "type": "histogram2d"
           }
          ],
          "histogram2dcontour": [
           {
            "colorbar": {
             "outlinewidth": 0,
             "ticks": ""
            },
            "colorscale": [
             [
              0,
              "#0d0887"
             ],
             [
              0.1111111111111111,
              "#46039f"
             ],
             [
              0.2222222222222222,
              "#7201a8"
             ],
             [
              0.3333333333333333,
              "#9c179e"
             ],
             [
              0.4444444444444444,
              "#bd3786"
             ],
             [
              0.5555555555555556,
              "#d8576b"
             ],
             [
              0.6666666666666666,
              "#ed7953"
             ],
             [
              0.7777777777777778,
              "#fb9f3a"
             ],
             [
              0.8888888888888888,
              "#fdca26"
             ],
             [
              1,
              "#f0f921"
             ]
            ],
            "type": "histogram2dcontour"
           }
          ],
          "mesh3d": [
           {
            "colorbar": {
             "outlinewidth": 0,
             "ticks": ""
            },
            "type": "mesh3d"
           }
          ],
          "parcoords": [
           {
            "line": {
             "colorbar": {
              "outlinewidth": 0,
              "ticks": ""
             }
            },
            "type": "parcoords"
           }
          ],
          "pie": [
           {
            "automargin": true,
            "type": "pie"
           }
          ],
          "scatter": [
           {
            "fillpattern": {
             "fillmode": "overlay",
             "size": 10,
             "solidity": 0.2
            },
            "type": "scatter"
           }
          ],
          "scatter3d": [
           {
            "line": {
             "colorbar": {
              "outlinewidth": 0,
              "ticks": ""
             }
            },
            "marker": {
             "colorbar": {
              "outlinewidth": 0,
              "ticks": ""
             }
            },
            "type": "scatter3d"
           }
          ],
          "scattercarpet": [
           {
            "marker": {
             "colorbar": {
              "outlinewidth": 0,
              "ticks": ""
             }
            },
            "type": "scattercarpet"
           }
          ],
          "scattergeo": [
           {
            "marker": {
             "colorbar": {
              "outlinewidth": 0,
              "ticks": ""
             }
            },
            "type": "scattergeo"
           }
          ],
          "scattergl": [
           {
            "marker": {
             "colorbar": {
              "outlinewidth": 0,
              "ticks": ""
             }
            },
            "type": "scattergl"
           }
          ],
          "scattermapbox": [
           {
            "marker": {
             "colorbar": {
              "outlinewidth": 0,
              "ticks": ""
             }
            },
            "type": "scattermapbox"
           }
          ],
          "scatterpolar": [
           {
            "marker": {
             "colorbar": {
              "outlinewidth": 0,
              "ticks": ""
             }
            },
            "type": "scatterpolar"
           }
          ],
          "scatterpolargl": [
           {
            "marker": {
             "colorbar": {
              "outlinewidth": 0,
              "ticks": ""
             }
            },
            "type": "scatterpolargl"
           }
          ],
          "scatterternary": [
           {
            "marker": {
             "colorbar": {
              "outlinewidth": 0,
              "ticks": ""
             }
            },
            "type": "scatterternary"
           }
          ],
          "surface": [
           {
            "colorbar": {
             "outlinewidth": 0,
             "ticks": ""
            },
            "colorscale": [
             [
              0,
              "#0d0887"
             ],
             [
              0.1111111111111111,
              "#46039f"
             ],
             [
              0.2222222222222222,
              "#7201a8"
             ],
             [
              0.3333333333333333,
              "#9c179e"
             ],
             [
              0.4444444444444444,
              "#bd3786"
             ],
             [
              0.5555555555555556,
              "#d8576b"
             ],
             [
              0.6666666666666666,
              "#ed7953"
             ],
             [
              0.7777777777777778,
              "#fb9f3a"
             ],
             [
              0.8888888888888888,
              "#fdca26"
             ],
             [
              1,
              "#f0f921"
             ]
            ],
            "type": "surface"
           }
          ],
          "table": [
           {
            "cells": {
             "fill": {
              "color": "#EBF0F8"
             },
             "line": {
              "color": "white"
             }
            },
            "header": {
             "fill": {
              "color": "#C8D4E3"
             },
             "line": {
              "color": "white"
             }
            },
            "type": "table"
           }
          ]
         },
         "layout": {
          "annotationdefaults": {
           "arrowcolor": "#2a3f5f",
           "arrowhead": 0,
           "arrowwidth": 1
          },
          "autotypenumbers": "strict",
          "coloraxis": {
           "colorbar": {
            "outlinewidth": 0,
            "ticks": ""
           }
          },
          "colorscale": {
           "diverging": [
            [
             0,
             "#8e0152"
            ],
            [
             0.1,
             "#c51b7d"
            ],
            [
             0.2,
             "#de77ae"
            ],
            [
             0.3,
             "#f1b6da"
            ],
            [
             0.4,
             "#fde0ef"
            ],
            [
             0.5,
             "#f7f7f7"
            ],
            [
             0.6,
             "#e6f5d0"
            ],
            [
             0.7,
             "#b8e186"
            ],
            [
             0.8,
             "#7fbc41"
            ],
            [
             0.9,
             "#4d9221"
            ],
            [
             1,
             "#276419"
            ]
           ],
           "sequential": [
            [
             0,
             "#0d0887"
            ],
            [
             0.1111111111111111,
             "#46039f"
            ],
            [
             0.2222222222222222,
             "#7201a8"
            ],
            [
             0.3333333333333333,
             "#9c179e"
            ],
            [
             0.4444444444444444,
             "#bd3786"
            ],
            [
             0.5555555555555556,
             "#d8576b"
            ],
            [
             0.6666666666666666,
             "#ed7953"
            ],
            [
             0.7777777777777778,
             "#fb9f3a"
            ],
            [
             0.8888888888888888,
             "#fdca26"
            ],
            [
             1,
             "#f0f921"
            ]
           ],
           "sequentialminus": [
            [
             0,
             "#0d0887"
            ],
            [
             0.1111111111111111,
             "#46039f"
            ],
            [
             0.2222222222222222,
             "#7201a8"
            ],
            [
             0.3333333333333333,
             "#9c179e"
            ],
            [
             0.4444444444444444,
             "#bd3786"
            ],
            [
             0.5555555555555556,
             "#d8576b"
            ],
            [
             0.6666666666666666,
             "#ed7953"
            ],
            [
             0.7777777777777778,
             "#fb9f3a"
            ],
            [
             0.8888888888888888,
             "#fdca26"
            ],
            [
             1,
             "#f0f921"
            ]
           ]
          },
          "colorway": [
           "#636efa",
           "#EF553B",
           "#00cc96",
           "#ab63fa",
           "#FFA15A",
           "#19d3f3",
           "#FF6692",
           "#B6E880",
           "#FF97FF",
           "#FECB52"
          ],
          "font": {
           "color": "#2a3f5f"
          },
          "geo": {
           "bgcolor": "white",
           "lakecolor": "white",
           "landcolor": "#E5ECF6",
           "showlakes": true,
           "showland": true,
           "subunitcolor": "white"
          },
          "hoverlabel": {
           "align": "left"
          },
          "hovermode": "closest",
          "mapbox": {
           "style": "light"
          },
          "paper_bgcolor": "white",
          "plot_bgcolor": "#E5ECF6",
          "polar": {
           "angularaxis": {
            "gridcolor": "white",
            "linecolor": "white",
            "ticks": ""
           },
           "bgcolor": "#E5ECF6",
           "radialaxis": {
            "gridcolor": "white",
            "linecolor": "white",
            "ticks": ""
           }
          },
          "scene": {
           "xaxis": {
            "backgroundcolor": "#E5ECF6",
            "gridcolor": "white",
            "gridwidth": 2,
            "linecolor": "white",
            "showbackground": true,
            "ticks": "",
            "zerolinecolor": "white"
           },
           "yaxis": {
            "backgroundcolor": "#E5ECF6",
            "gridcolor": "white",
            "gridwidth": 2,
            "linecolor": "white",
            "showbackground": true,
            "ticks": "",
            "zerolinecolor": "white"
           },
           "zaxis": {
            "backgroundcolor": "#E5ECF6",
            "gridcolor": "white",
            "gridwidth": 2,
            "linecolor": "white",
            "showbackground": true,
            "ticks": "",
            "zerolinecolor": "white"
           }
          },
          "shapedefaults": {
           "line": {
            "color": "#2a3f5f"
           }
          },
          "ternary": {
           "aaxis": {
            "gridcolor": "white",
            "linecolor": "white",
            "ticks": ""
           },
           "baxis": {
            "gridcolor": "white",
            "linecolor": "white",
            "ticks": ""
           },
           "bgcolor": "#E5ECF6",
           "caxis": {
            "gridcolor": "white",
            "linecolor": "white",
            "ticks": ""
           }
          },
          "title": {
           "x": 0.05
          },
          "xaxis": {
           "automargin": true,
           "gridcolor": "white",
           "linecolor": "white",
           "ticks": "",
           "title": {
            "standoff": 15
           },
           "zerolinecolor": "white",
           "zerolinewidth": 2
          },
          "yaxis": {
           "automargin": true,
           "gridcolor": "white",
           "linecolor": "white",
           "ticks": "",
           "title": {
            "standoff": 15
           },
           "zerolinecolor": "white",
           "zerolinewidth": 2
          }
         }
        },
        "xaxis": {
         "anchor": "y",
         "autorange": true,
         "domain": [
          0,
          1
         ],
         "range": [
          -81.70041549861581,
          81.42947281062753
         ],
         "title": {
          "text": "x"
         },
         "type": "linear"
        },
        "yaxis": {
         "anchor": "x",
         "autorange": true,
         "domain": [
          0,
          1
         ],
         "range": [
          -46.07235497001588,
          38.11381691459596
         ],
         "title": {
          "text": "y"
         },
         "type": "linear"
        }
       }
      },
      "image/png": "[encoded data removed]",
      "text/html": [
       "<div>                            <div id=\"ab49377e-5487-400d-91a1-bde38a8d48f6\" class=\"plotly-graph-div\" style=\"height:525px; width:100%;\"></div>            <script type=\"text/javascript\">                require([\"plotly\"], function(Plotly) {                    window.PLOTLYENV=window.PLOTLYENV || {};                                    if (document.getElementById(\"ab49377e-5487-400d-91a1-bde38a8d48f6\")) {                    Plotly.newPlot(                        \"ab49377e-5487-400d-91a1-bde38a8d48f6\",                        [{\"hovertemplate\":\"symbol=0\\u003cbr\\u003ex=%{x}\\u003cbr\\u003ey=%{y}\\u003cbr\\u003ecolor=%{marker.color}\\u003cextra\\u003e\\u003c\\u002fextra\\u003e\",\"legendgroup\":\"0\",\"marker\":{\"color\":[0.001100114081054926,0.06893564015626907,0.933200478553772,0.036567848175764084,0.1324915587902069,0.0011672071414068341,0.001755507430061698,0.04067929834127426,0.00254443078301847,0.022114573046565056,0.015934711322188377,0.005358376074582338,0.0024073284585028887,0.4308699667453766,0.005188295152038336,0.02786913327872753,0.2602991759777069,0.26454824209213257,0.00038075089105404913,0.05227663740515709,0.06897307932376862,0.20426516234874725,0.029233107343316078,0.02712865173816681,0.0002886122092604637,2.0922816474922e-06,0.011038669385015965,0.013987578451633453,0.03009248524904251,0.0023523541167378426,0.9970631003379822,0.9987969398498535,0.9999405145645142,0.9996908903121948,0.999882698059082,0.9980606436729431,0.9930779337882996,0.9983125925064087,0.9999902248382568,1.0,0.9978817105293274,0.9972155094146729,0.9998496770858765,0.9986648559570312,0.9998470544815063,0.9997557997703552,0.6927124261856079,0.9892194867134094,0.9999885559082031,0.9997610449790955,0.9579929709434509,0.97076416015625,0.9891656041145325,0.997072696685791,0.9999986886978149,0.9851058721542358,0.9999998807907104,0.9999969005584717,0.9985162615776062,0.9999915361404419,0.0013465770753100514,0.00019375741248950362,0.0002886122092604637,0.02654889225959778,0.013341029174625874,0.15022706985473633,0.0011672071414068341,0.010071334429085255,0.6087990999221802,0.006712769158184528,0.02215893566608429,0.015934711322188377,0.060951389372348785,0.0020514363422989845,0.0016375998966395855,0.013979168608784676,0.00010773308895295486,0.014961506240069866,0.0004928865819238126,0.06893564015626907,0.3419669568538666,0.05718420445919037,0.005358376074582338,0.28169265389442444,0.002538041677325964,0.012987826019525528,0.027177097275853157,0.004068255424499512,0.33065226674079895,0.1072307899594307,0.999913215637207,0.9999557733535767,0.9891304969787598,0.9972155094146729,0.9999915361404419,0.9999967813491821,0.9995728135108948,0.9963894486427307,1.0,0.9998319149017334,1.0,0.9999405145645142,0.9978764057159424,0.9998719692230225,0.9983125925064087,0.9999969005584717,0.9978817105293274,0.9999170303344727,0.9999053478240967,0.9280632734298706,0.9891656041145325,0.9970631003379822,0.9999988079071045,0.9999958276748657,0.9997610449790955,1.0,0.9493535161018372,0.9998155236244202,0.9996629953384399,0.9995346069335938,0.26454824209213257,0.0013844814384356141,0.03138446807861328,0.04067929834127426,0.0002886122092604637,0.4406473934650421,0.07801254093647003,0.06897307932376862,0.0013465770753100514,0.038519781082868576,0.02712865173816681,0.0012837443500757217,0.03009248524904251,0.004232964012771845,0.009728686884045601,0.06893564015626907,0.04622546210885048,0.1363433599472046,0.026492532342672348,0.06819722801446915,0.022114573046565056,0.15022706985473633,0.006224480457603931,0.013987578451633453,0.016267141327261925,0.0006564423092640936,0.0020514363422989845,0.1107454001903534,0.7596737742424011,0.0016375998966395855,0.9999988079071045,0.9997654557228088,0.9999641180038452,0.6927124261856079,0.954315185546875,0.9984495639801025,0.9999279975891113,0.9943338632583618,0.9997084736824036,0.9963701963424683,0.9845050573348999,0.9978764057159424,0.9999680519104004,0.9999921321868896,0.997133731842041,0.9999958276748657,0.9998724460601807,0.9930779337882996,0.9998961687088013,0.9999778270721436,0.9989272952079773,0.9999783039093018,0.9891304969787598,0.9996908903121948,0.999908447265625,0.9999990463256836,0.9493535161018372,1.0,0.9999935626983643,1.0],\"coloraxis\":\"coloraxis\",\"symbol\":\"circle\"},\"mode\":\"markers\",\"name\":\"0\",\"orientation\":\"v\",\"showlegend\":true,\"x\":[-63.22538375854492,-57.96409225463867,-40.74118423461914,-47.550113677978516,-34.30424499511719,-26.763288497924805,-33.75046157836914,-26.924766540527344,-12.142186164855957,-19.91134262084961,-30.71251678466797,-9.17485523223877,-2.862849712371826,-70.00596618652344,-0.19918175041675568,-59.8942985534668,-42.436500549316406,-49.071746826171875,-17.4242000579834,-48.14194107055664,-60.14720916748047,-63.44331359863281,-58.4731330871582,-65.2502212524414,-26.68547821044922,-22.04796028137207,-56.37057876586914,-49.31190872192383,-35.5638427734375,54.12126541137695,63.76132583618164,5.386663913726807,43.4193000793457,25.152544021606445,72.76404571533203,15.691183090209961,64.12068176269531,55.661495208740234,32.426048278808594,38.83798599243164,15.581636428833008,11.351530075073242,16.498571395874023,13.471221923828125,28.7628231048584,48.29553985595703,63.588375091552734,-25.413358688354492,36.29669952392578,39.99403381347656,12.092679977416992,-38.70233154296875,-6.319983005523682,50.69512939453125,17.065521240234375,-11.443937301635742,51.49323272705078,33.77915573120117,5.258049011230469,33.70780563354492,-14.379850387573242,-25.91952133178711,-26.68547821044922,-62.904151916503906,7.014213562011719,0.7373655438423157,-26.763288497924805,-9.061970710754395,-65.00167846679688,14.05300235748291,-52.20479202270508,-29.213111877441406,-16.434354782104492,-57.62641525268555,-16.365036010742188,-7.189917087554932,-49.188167572021484,-10.881000518798828,-22.264328002929688,-59.53362274169922,-9.233573913574219,-72.22808837890625,-10.374687194824219,-3.8599743843078613,-59.13703155517578,-7.489426612854004,-51.886924743652344,19.833600997924805,-67.32254028320312,-43.86574935913086,61.448524475097656,46.482112884521484,54.35647201538086,13.013649940490723,34.29357147216797,44.777950286865234,14.079582214355469,62.97715759277344,47.87963104248047,48.74882888793945,41.49517822265625,43.68586349487305,31.5086669921875,28.097509384155273,54.573917388916016,34.19744873046875,15.581636428833008,38.70219421386719,18.897010803222656,16.650772094726562,-6.319983005523682,63.76132583618164,9.96532154083252,49.904945373535156,39.99403381347656,43.29161071777344,-2.4229605197906494,41.60553741455078,59.33165740966797,20.67088508605957,-49.81678771972656,-62.06770706176758,-67.32032012939453,-28.095327377319336,-26.764379501342773,-68.49830627441406,-65.7243881225586,-59.36235809326172,-14.346928596496582,-59.020286560058594,-63.81278610229492,-60.12513732910156,-36.705169677734375,-5.383730888366699,-45.852081298828125,-59.53362274169922,70.73568725585938,-55.685943603515625,-55.28981399536133,-2.715364694595337,-21.13269805908203,1.130941390991211,-14.298629760742188,-49.31190872192383,-14.233708381652832,0.0073976460844278336,-57.62641525268555,-41.7021598815918,-3.7453713417053223,-16.237947463989258,9.96532154083252,10.394573211669922,34.14842987060547,64.91218566894531,5.182290077209473,69.14547729492188,12.058093070983887,9.846304893493652,47.247928619384766,19.317909240722656,46.48288345336914,29.810998916625977,35.53778076171875,17.61713218688965,9.717544555664062,49.904945373535156,26.783321380615234,64.12068176269531,58.55867004394531,21.304954528808594,5.648035526275635,30.414283752441406,54.35647201538086,24.657529830932617,27.25418472290039,23.19266700744629,-3.0858449935913086,38.1062126159668,63.78427505493164,41.10012435913086],\"xaxis\":\"x\",\"y\":[25.293060302734375,-6.074336528778076,-10.720651626586914,-3.8346612453460693,3.1649398803710938,22.492464065551758,9.301857948303223,-1.0820637941360474,-16.07535171508789,-10.608553886413574,-11.773351669311523,5.560030937194824,20.263805389404297,-1.7345796823501587,1.589927315711975,5.5761284828186035,-5.753098964691162,-15.43079662322998,-17.444562911987305,9.181519508361816,-1.4994611740112305,-2.8400604724884033,13.987457275390625,9.845215797424316,5.908806800842285,2.3013710975646973,23.487638473510742,3.33202862739563,-4.631778240203857,-9.40811824798584,16.064266204833984,-5.285809516906738,7.97898530960083,5.640183448791504,5.271279811859131,-15.706501960754395,27.216453552246094,12.43373966217041,-3.477276563644409,-13.29192066192627,2.0556540489196777,-5.650169372558594,-4.549605369567871,-11.071786880493164,0.8050763607025146,12.407402038574219,-12.731386184692383,-16.965803146362305,-0.9148826003074646,1.1305888891220093,13.376996994018555,-17.150815963745117,-21.972105026245117,19.14162826538086,-40.42805480957031,28.221656799316406,27.256711959838867,9.433225631713867,-13.459371566772461,3.5946223735809326,-25.925626754760742,-6.201755523681641,5.908806800842285,-4.919588088989258,15.24003791809082,13.976642608642578,22.492464065551758,15.28816032409668,15.81495189666748,26.382349014282227,5.340949058532715,-11.076384544372559,-6.912631988525391,30.32461929321289,14.437158584594727,-4.743360996246338,31.71465492248535,-5.265449047088623,-3.975424289703369,-5.001946926116943,9.659749031066895,-8.361302375793457,4.548947811126709,11.606683731079102,24.615205764770508,-10.74722957611084,21.230384826660156,25.23247718811035,2.587826728820801,0.3798404037952423,1.6021109819412231,-25.976211547851562,-3.442354440689087,-5.613386154174805,2.0188636779785156,-0.47647860646247864,-20.84827995300293,-1.8476176261901855,-21.62354278564453,-1.8589239120483398,20.53117561340332,6.3464837074279785,-14.710753440856934,-26.58552360534668,13.843768119812012,7.823034286499023,2.0556540489196777,-26.247835159301758,-24.688974380493164,-28.764299392700195,-21.972105026245117,16.064266204833984,-38.061431884765625,2.814682960510254,1.1305888891220093,-22.31585121154785,-17.06749725341797,-5.423218250274658,24.802108764648438,-3.7955126762390137,-14.047840118408203,20.327184677124023,-4.750707626342773,-0.002233318518847227,7.932686805725098,1.5448237657546997,-9.06124210357666,-0.34777122735977173,-24.190792083740234,3.1861519813537598,9.209800720214844,28.144086837768555,-3.6092684268951416,0.3885819911956787,5.963913440704346,-5.001946926116943,18.690242767333984,-2.10007905960083,26.499290466308594,-2.0291783809661865,-11.590502738952637,15.614706993103027,-10.413143157958984,3.33202862739563,-0.4028993248939514,-34.0,30.32461929321289,6.541683197021484,-6.273393154144287,12.84687614440918,-38.061431884765625,-30.95838737487793,14.171515464782715,-13.753125190734863,7.1734161376953125,22.497461318969727,-23.83045196533203,-16.3112850189209,-15.12752628326416,16.943519592285156,-7.96541690826416,-14.788528442382812,-6.909808158874512,-8.798932075500488,-10.070575714111328,2.814682960510254,17.97300910949707,27.216453552246094,3.9877381324768066,-19.194007873535156,-25.201139450073242,-11.108633995056152,-3.442354440689087,7.175402641296387,-4.658464431762695,-11.797242164611816,-18.568056106567383,23.5849609375,6.640717506408691,13.2384614944458],\"yaxis\":\"y\",\"type\":\"scatter\"},{\"hovertemplate\":\"symbol=1\\u003cbr\\u003ex=%{x}\\u003cbr\\u003ey=%{y}\\u003cbr\\u003ecolor=%{marker.color}\\u003cextra\\u003e\\u003c\\u002fextra\\u003e\",\"legendgroup\":\"1\",\"marker\":{\"color\":[0.28138259053230286,0.9624954462051392,0.9999269247055054,0.9861730933189392,0.9990813732147217,0.39272913336753845,0.7388852834701538,0.9845644235610962,0.9886082410812378,0.9920765161514282,0.9802358150482178,0.99001544713974,0.7319505214691162,0.9963595271110535,0.9864930510520935,0.9433392286300659,0.998141884803772,0.9975969195365906,0.6349908709526062,0.9848302602767944,0.981899619102478,0.9905407428741455,0.8707537055015564,0.9711913466453552,0.6077273488044739,0.020926037803292274,0.8591318726539612,0.9791643619537354,0.966482937335968,0.9311959743499756,0.4552913308143616,0.18105316162109375,0.7179412841796875,0.5961706638336182,0.46058374643325806,0.14987528324127197,0.17287813127040863,0.23064465820789337,0.9838617444038391,1.0,0.02547823265194893,0.012598182074725628,0.28146490454673767,0.04311443865299225,0.38512107729911804,0.6880003213882446,0.0011822714004665613,0.0085466168820858,0.848805844783783,0.5256335735321045,0.017115533351898193,0.014469458721578121,0.006317486055195332,0.184212788939476,0.9963513612747192,0.02856285497546196,0.9976065158843994,0.9953018426895142,0.08064792305231094,0.9639953970909119,0.8634722828865051,0.4288790225982666,0.6077273488044739,0.9521874785423279,0.9848237037658691,0.9989529848098755,0.39272913336753845,0.9552847146987915,0.9996703863143921,0.8540533185005188,0.964168906211853,0.9802358150482178,0.9971388578414917,0.39550331234931946,0.6371540427207947,0.9851580262184143,0.02277212403714657,0.9712702631950378,0.6195113658905029,0.9624954462051392,0.9997127652168274,0.993473470211029,0.99001544713974,0.9987033605575562,0.4080529808998108,0.9880092740058899,0.920497715473175,0.8879982829093933,0.9796386957168579,0.9931504130363464,0.6051350235939026,0.7810378074645996,0.009412220679223537,0.012598182074725628,0.9639953970909119,0.9792750477790833,0.4560841917991638,0.01863499917089939,1.0,0.3555426001548767,1.0,0.7179412841796875,0.03427152708172798,0.5832086205482483,0.23064465820789337,0.9953018426895142,0.02547823265194893,0.39973703026771545,0.6599355936050415,0.0018344188574701548,0.006317486055195332,0.4552913308143616,0.9987561702728271,0.9826671481132507,0.5256335735321045,1.0,0.0012928310316056013,0.8542417883872986,0.6595960259437561,0.32070574164390564,0.9975969195365906,0.5507472157478333,0.9913683533668518,0.9845644235610962,0.6077273488044739,0.9937406182289124,0.9764324426651001,0.981899619102478,0.8634722828865051,0.9599879384040833,0.9711913466453552,0.3486705422401428,0.966482937335968,0.9189863801002502,0.9290658235549927,0.9624954462051392,0.9892978668212891,0.9827085137367249,0.8833179473876953,0.9970007538795471,0.9920765161514282,0.9989529848098755,0.9705431461334229,0.9791643619537354,0.9925069212913513,0.7990849614143372,0.39550331234931946,0.9928734302520752,0.999687910079956,0.6371540427207947,0.9987561702728271,0.6802973747253418,0.876394510269165,0.0011822714004665613,0.01685699261724949,0.37856292724609375,0.8652665615081787,0.08151911199092865,0.15157949924468994,0.09986533969640732,0.023635022342205048,0.03427152708172798,0.5578941702842712,0.9865080118179321,0.027755320072174072,0.9826671481132507,0.6765795946121216,0.17287813127040863,0.7975834012031555,0.911290168762207,0.14829012751579285,0.7961676120758057,0.009412220679223537,0.5961706638336182,0.723978579044342,0.9971862435340881,0.0012928310316056013,1.0,0.9542070627212524,1.0],\"coloraxis\":\"coloraxis\",\"symbol\":\"diamond\"},\"mode\":\"markers\",\"name\":\"1\",\"orientation\":\"v\",\"showlegend\":true,\"x\":[-64.22193145751953,-60.67288589477539,-41.90546798706055,-48.127140045166016,-34.71929168701172,-28.36292266845703,-34.72603225708008,-28.96070671081543,-13.193270683288574,-22.398990631103516,-30.815887451171875,-11.958346366882324,-4.088172435760498,-71.33457946777344,-1.2086338996887207,-61.57036590576172,-43.0767707824707,-51.589149475097656,-18.481613159179688,-49.37137985229492,-62.40728759765625,-64.7952880859375,-59.11977005004883,-65.6673583984375,-29.228883743286133,-22.4556827545166,-56.50725555419922,-49.023048400878906,-37.936126708984375,53.91390609741211,63.19345474243164,6.027945518493652,45.57590866088867,26.46483612060547,72.44444274902344,16.87474822998047,64.68807220458984,56.59468078613281,32.79570770263672,38.83798599243164,17.684946060180664,12.665026664733887,16.140588760375977,14.337395668029785,29.714706420898438,49.355262756347656,64.71629333496094,-25.9823055267334,37.40879821777344,41.26192092895508,12.885050773620605,-38.0914306640625,-4.337157249450684,51.81077575683594,18.253360748291016,-10.334136009216309,52.58539962768555,36.16566467285156,5.9720072746276855,35.871185302734375,-16.318912506103516,-25.225313186645508,-29.004619598388672,-64.68133544921875,6.294471740722656,-0.9986872673034668,-28.36292266845703,-10.142939567565918,-66.10472106933594,13.382359504699707,-53.001853942871094,-30.815887451171875,-17.63700294494629,-58.04176330566406,-18.24129295349121,-7.500047206878662,-49.260440826416016,-11.595108985900879,-22.353059768676758,-60.67288589477539,-10.558427810668945,-73.03498840332031,-10.76707935333252,-5.015810012817383,-59.766258239746094,-8.653849601745605,-51.526649475097656,19.02022361755371,-69.57197570800781,-45.169456481933594,62.62151336669922,47.45417785644531,55.25849914550781,11.009127616882324,35.871185302734375,44.85987091064453,13.495080947875977,64.07162475585938,48.825523376464844,49.92976760864258,41.49517822265625,45.342620849609375,31.72789192199707,28.982112884521484,56.59468078613281,35.746681213378906,17.684946060180664,37.616275787353516,19.975940704345703,17.70472526550293,-5.681914329528809,63.19345474243164,12.033909797668457,51.992271423339844,39.69222640991211,43.28120803833008,-0.6773709654808044,41.79224395751953,59.951419830322266,21.549455642700195,-50.83884048461914,-63.19065856933594,-66.46287536621094,-28.96070671081543,-29.228883743286133,-70.6952896118164,-66.9041519165039,-62.40728759765625,-16.318912506103516,-61.03815841674805,-65.6673583984375,-61.464298248291016,-36.8116455078125,-6.022097110748291,-45.735565185546875,-60.67288589477539,71.62580108642578,-55.40250015258789,-54.12714385986328,-3.893218517303467,-21.146085739135742,-0.9986872673034668,-15.4215726852417,-50.50383758544922,-15.26483154296875,-1.0316118001937866,-59.51958465576172,-41.65114212036133,-3.9807205200195312,-18.375404357910156,12.033909797668457,11.498249053955078,35.244895935058594,66.05311584472656,6.291004657745361,68.18126678466797,11.362351417541504,11.037039756774902,46.230987548828125,20.010581970214844,47.43925476074219,30.03397560119629,36.6468620300293,18.586597442626953,9.61405086517334,51.16793441772461,27.061355590820312,64.68807220458984,58.97805404663086,22.41840171813965,5.898205280303955,31.72144889831543,55.25849914550781,26.959749221801758,28.308286666870117,23.762264251708984,-1.333558440208435,37.42484664916992,63.234649658203125,41.93787384033203],\"xaxis\":\"x\",\"y\":[24.21717643737793,-8.192352294921875,-10.845061302185059,-2.692214250564575,4.208439350128174,21.190753936767578,8.61115550994873,-2.0124428272247314,-15.39830207824707,-10.021413803100586,-9.5452880859375,5.977725982666016,20.323375701904297,-2.5191006660461426,2.2096216678619385,4.85982608795166,-6.7755842208862305,-15.000626564025879,-16.96946144104004,8.849184036254883,0.32138898968696594,-1.3541353940963745,13.010856628417969,7.290521621704102,5.971722602844238,1.1597790718078613,22.10496711730957,0.8867692351341248,-5.196284770965576,-10.492563247680664,18.002307891845703,-4.334142208099365,6.458158493041992,7.818774700164795,6.339142799377441,-15.456334114074707,25.241342544555664,14.296882629394531,-2.2689783573150635,-13.29192066192627,1.8498358726501465,-3.6051883697509766,-3.26601505279541,-10.272296905517578,1.5119142532348633,11.90759563446045,-11.277360916137695,-17.991947174072266,-1.4487318992614746,2.8505070209503174,12.546077728271484,-18.111122131347656,-22.803382873535156,19.264699935913086,-40.308982849121094,28.29093360900879,27.115581512451172,8.182257652282715,-12.474570274353027,3.5057899951934814,-25.023900985717773,-5.114603042602539,7.991625785827637,-5.14961576461792,16.166400909423828,15.306142807006836,21.190753936767578,15.696158409118652,15.2471923828125,27.2872257232666,3.976853847503662,-9.5452880859375,-7.402831554412842,32.46951675415039,12.67009449005127,-6.1029839515686035,30.486896514892578,-6.384974002838135,-5.268247127532959,-8.192352294921875,10.086357116699219,-7.3653082847595215,6.892142295837402,12.010222434997559,23.228527069091797,-10.321512222290039,20.08904457092285,26.026025772094727,3.860886573791504,0.02345907874405384,2.0164055824279785,-26.707265853881836,-1.5690683126449585,-3.7014760971069336,3.5057899951934814,0.7828555703163147,-19.692434310913086,-1.4008979797363281,-22.2209415435791,-2.054645538330078,20.53117561340332,8.108338356018066,-16.58232307434082,-25.940752029418945,14.296882629394531,9.783285140991211,1.8498358726501465,-26.009708404541016,-25.154373168945312,-29.19723129272461,-24.00433349609375,18.002307891845703,-38.21296691894531,2.9249634742736816,3.328111171722412,-21.19021987915039,-17.899171829223633,-4.296748161315918,23.834190368652344,-2.982175827026367,-16.39743995666504,19.749624252319336,-3.2582032680511475,-2.0124428272247314,5.971722602844238,2.4488747119903564,-8.022717475891113,0.32138898968696594,-25.023900985717773,2.8010804653167725,7.290521621704102,28.88184928894043,-6.236065864562988,-0.7798087000846863,4.5597100257873535,-8.192352294921875,19.429773330688477,-0.6774726510047913,26.075220108032227,-2.7265172004699707,-9.037515640258789,15.306142807006836,-10.86291790008545,1.038285493850708,-0.8754522800445557,-33.57917785644531,31.614822387695312,5.309072971343994,-7.524035930633545,14.253020286560059,-38.21296691894531,-30.58475685119629,14.632611274719238,-12.305505752563477,7.112371921539307,21.774864196777344,-22.874711990356445,-16.322189331054688,-14.711177825927734,16.081525802612305,-8.518744468688965,-16.689773559570312,-7.249770641326904,-8.041180610656738,-8.822126388549805,4.494544506072998,16.88066291809082,25.241342544555664,5.0712761878967285,-18.998811721801758,-24.12105941772461,-11.26953125,-1.5690683126449585,6.272827625274658,-5.126542091369629,-10.824214935302734,-19.429563522338867,22.6568546295166,7.620357990264893,13.962386131286621],\"yaxis\":\"y\",\"type\":\"scatter\"}],                        {\"template\":{\"data\":{\"histogram2dcontour\":[{\"type\":\"histogram2dcontour\",\"colorbar\":{\"outlinewidth\":0,\"ticks\":\"\"},\"colorscale\":[[0.0,\"#0d0887\"],[0.1111111111111111,\"#46039f\"],[0.2222222222222222,\"#7201a8\"],[0.3333333333333333,\"#9c179e\"],[0.4444444444444444,\"#bd3786\"],[0.5555555555555556,\"#d8576b\"],[0.6666666666666666,\"#ed7953\"],[0.7777777777777778,\"#fb9f3a\"],[0.8888888888888888,\"#fdca26\"],[1.0,\"#f0f921\"]]}],\"choropleth\":[{\"type\":\"choropleth\",\"colorbar\":{\"outlinewidth\":0,\"ticks\":\"\"}}],\"histogram2d\":[{\"type\":\"histogram2d\",\"colorbar\":{\"outlinewidth\":0,\"ticks\":\"\"},\"colorscale\":[[0.0,\"#0d0887\"],[0.1111111111111111,\"#46039f\"],[0.2222222222222222,\"#7201a8\"],[0.3333333333333333,\"#9c179e\"],[0.4444444444444444,\"#bd3786\"],[0.5555555555555556,\"#d8576b\"],[0.6666666666666666,\"#ed7953\"],[0.7777777777777778,\"#fb9f3a\"],[0.8888888888888888,\"#fdca26\"],[1.0,\"#f0f921\"]]}],\"heatmap\":[{\"type\":\"heatmap\",\"colorbar\":{\"outlinewidth\":0,\"ticks\":\"\"},\"colorscale\":[[0.0,\"#0d0887\"],[0.1111111111111111,\"#46039f\"],[0.2222222222222222,\"#7201a8\"],[0.3333333333333333,\"#9c179e\"],[0.4444444444444444,\"#bd3786\"],[0.5555555555555556,\"#d8576b\"],[0.6666666666666666,\"#ed7953\"],[0.7777777777777778,\"#fb9f3a\"],[0.8888888888888888,\"#fdca26\"],[1.0,\"#f0f921\"]]}],\"heatmapgl\":[{\"type\":\"heatmapgl\",\"colorbar\":{\"outlinewidth\":0,\"ticks\":\"\"},\"colorscale\":[[0.0,\"#0d0887\"],[0.1111111111111111,\"#46039f\"],[0.2222222222222222,\"#7201a8\"],[0.3333333333333333,\"#9c179e\"],[0.4444444444444444,\"#bd3786\"],[0.5555555555555556,\"#d8576b\"],[0.6666666666666666,\"#ed7953\"],[0.7777777777777778,\"#fb9f3a\"],[0.8888888888888888,\"#fdca26\"],[1.0,\"#f0f921\"]]}],\"contourcarpet\":[{\"type\":\"contourcarpet\",\"colorbar\":{\"outlinewidth\":0,\"ticks\":\"\"}}],\"contour\":[{\"type\":\"contour\",\"colorbar\":{\"outlinewidth\":0,\"ticks\":\"\"},\"colorscale\":[[0.0,\"#0d0887\"],[0.1111111111111111,\"#46039f\"],[0.2222222222222222,\"#7201a8\"],[0.3333333333333333,\"#9c179e\"],[0.4444444444444444,\"#bd3786\"],[0.5555555555555556,\"#d8576b\"],[0.6666666666666666,\"#ed7953\"],[0.7777777777777778,\"#fb9f3a\"],[0.8888888888888888,\"#fdca26\"],[1.0,\"#f0f921\"]]}],\"surface\":[{\"type\":\"surface\",\"colorbar\":{\"outlinewidth\":0,\"ticks\":\"\"},\"colorscale\":[[0.0,\"#0d0887\"],[0.1111111111111111,\"#46039f\"],[0.2222222222222222,\"#7201a8\"],[0.3333333333333333,\"#9c179e\"],[0.4444444444444444,\"#bd3786\"],[0.5555555555555556,\"#d8576b\"],[0.6666666666666666,\"#ed7953\"],[0.7777777777777778,\"#fb9f3a\"],[0.8888888888888888,\"#fdca26\"],[1.0,\"#f0f921\"]]}],\"mesh3d\":[{\"type\":\"mesh3d\",\"colorbar\":{\"outlinewidth\":0,\"ticks\":\"\"}}],\"scatter\":[{\"fillpattern\":{\"fillmode\":\"overlay\",\"size\":10,\"solidity\":0.2},\"type\":\"scatter\"}],\"parcoords\":[{\"type\":\"parcoords\",\"line\":{\"colorbar\":{\"outlinewidth\":0,\"ticks\":\"\"}}}],\"scatterpolargl\":[{\"type\":\"scatterpolargl\",\"marker\":{\"colorbar\":{\"outlinewidth\":0,\"ticks\":\"\"}}}],\"bar\":[{\"error_x\":{\"color\":\"#2a3f5f\"},\"error_y\":{\"color\":\"#2a3f5f\"},\"marker\":{\"line\":{\"color\":\"#E5ECF6\",\"width\":0.5},\"pattern\":{\"fillmode\":\"overlay\",\"size\":10,\"solidity\":0.2}},\"type\":\"bar\"}],\"scattergeo\":[{\"type\":\"scattergeo\",\"marker\":{\"colorbar\":{\"outlinewidth\":0,\"ticks\":\"\"}}}],\"scatterpolar\":[{\"type\":\"scatterpolar\",\"marker\":{\"colorbar\":{\"outlinewidth\":0,\"ticks\":\"\"}}}],\"histogram\":[{\"marker\":{\"pattern\":{\"fillmode\":\"overlay\",\"size\":10,\"solidity\":0.2}},\"type\":\"histogram\"}],\"scattergl\":[{\"type\":\"scattergl\",\"marker\":{\"colorbar\":{\"outlinewidth\":0,\"ticks\":\"\"}}}],\"scatter3d\":[{\"type\":\"scatter3d\",\"line\":{\"colorbar\":{\"outlinewidth\":0,\"ticks\":\"\"}},\"marker\":{\"colorbar\":{\"outlinewidth\":0,\"ticks\":\"\"}}}],\"scattermapbox\":[{\"type\":\"scattermapbox\",\"marker\":{\"colorbar\":{\"outlinewidth\":0,\"ticks\":\"\"}}}],\"scatterternary\":[{\"type\":\"scatterternary\",\"marker\":{\"colorbar\":{\"outlinewidth\":0,\"ticks\":\"\"}}}],\"scattercarpet\":[{\"type\":\"scattercarpet\",\"marker\":{\"colorbar\":{\"outlinewidth\":0,\"ticks\":\"\"}}}],\"carpet\":[{\"aaxis\":{\"endlinecolor\":\"#2a3f5f\",\"gridcolor\":\"white\",\"linecolor\":\"white\",\"minorgridcolor\":\"white\",\"startlinecolor\":\"#2a3f5f\"},\"baxis\":{\"endlinecolor\":\"#2a3f5f\",\"gridcolor\":\"white\",\"linecolor\":\"white\",\"minorgridcolor\":\"white\",\"startlinecolor\":\"#2a3f5f\"},\"type\":\"carpet\"}],\"table\":[{\"cells\":{\"fill\":{\"color\":\"#EBF0F8\"},\"line\":{\"color\":\"white\"}},\"header\":{\"fill\":{\"color\":\"#C8D4E3\"},\"line\":{\"color\":\"white\"}},\"type\":\"table\"}],\"barpolar\":[{\"marker\":{\"line\":{\"color\":\"#E5ECF6\",\"width\":0.5},\"pattern\":{\"fillmode\":\"overlay\",\"size\":10,\"solidity\":0.2}},\"type\":\"barpolar\"}],\"pie\":[{\"automargin\":true,\"type\":\"pie\"}]},\"layout\":{\"autotypenumbers\":\"strict\",\"colorway\":[\"#636efa\",\"#EF553B\",\"#00cc96\",\"#ab63fa\",\"#FFA15A\",\"#19d3f3\",\"#FF6692\",\"#B6E880\",\"#FF97FF\",\"#FECB52\"],\"font\":{\"color\":\"#2a3f5f\"},\"hovermode\":\"closest\",\"hoverlabel\":{\"align\":\"left\"},\"paper_bgcolor\":\"white\",\"plot_bgcolor\":\"#E5ECF6\",\"polar\":{\"bgcolor\":\"#E5ECF6\",\"angularaxis\":{\"gridcolor\":\"white\",\"linecolor\":\"white\",\"ticks\":\"\"},\"radialaxis\":{\"gridcolor\":\"white\",\"linecolor\":\"white\",\"ticks\":\"\"}},\"ternary\":{\"bgcolor\":\"#E5ECF6\",\"aaxis\":{\"gridcolor\":\"white\",\"linecolor\":\"white\",\"ticks\":\"\"},\"baxis\":{\"gridcolor\":\"white\",\"linecolor\":\"white\",\"ticks\":\"\"},\"caxis\":{\"gridcolor\":\"white\",\"linecolor\":\"white\",\"ticks\":\"\"}},\"coloraxis\":{\"colorbar\":{\"outlinewidth\":0,\"ticks\":\"\"}},\"colorscale\":{\"sequential\":[[0.0,\"#0d0887\"],[0.1111111111111111,\"#46039f\"],[0.2222222222222222,\"#7201a8\"],[0.3333333333333333,\"#9c179e\"],[0.4444444444444444,\"#bd3786\"],[0.5555555555555556,\"#d8576b\"],[0.6666666666666666,\"#ed7953\"],[0.7777777777777778,\"#fb9f3a\"],[0.8888888888888888,\"#fdca26\"],[1.0,\"#f0f921\"]],\"sequentialminus\":[[0.0,\"#0d0887\"],[0.1111111111111111,\"#46039f\"],[0.2222222222222222,\"#7201a8\"],[0.3333333333333333,\"#9c179e\"],[0.4444444444444444,\"#bd3786\"],[0.5555555555555556,\"#d8576b\"],[0.6666666666666666,\"#ed7953\"],[0.7777777777777778,\"#fb9f3a\"],[0.8888888888888888,\"#fdca26\"],[1.0,\"#f0f921\"]],\"diverging\":[[0,\"#8e0152\"],[0.1,\"#c51b7d\"],[0.2,\"#de77ae\"],[0.3,\"#f1b6da\"],[0.4,\"#fde0ef\"],[0.5,\"#f7f7f7\"],[0.6,\"#e6f5d0\"],[0.7,\"#b8e186\"],[0.8,\"#7fbc41\"],[0.9,\"#4d9221\"],[1,\"#276419\"]]},\"xaxis\":{\"gridcolor\":\"white\",\"linecolor\":\"white\",\"ticks\":\"\",\"title\":{\"standoff\":15},\"zerolinecolor\":\"white\",\"automargin\":true,\"zerolinewidth\":2},\"yaxis\":{\"gridcolor\":\"white\",\"linecolor\":\"white\",\"ticks\":\"\",\"title\":{\"standoff\":15},\"zerolinecolor\":\"white\",\"automargin\":true,\"zerolinewidth\":2},\"scene\":{\"xaxis\":{\"backgroundcolor\":\"#E5ECF6\",\"gridcolor\":\"white\",\"linecolor\":\"white\",\"showbackground\":true,\"ticks\":\"\",\"zerolinecolor\":\"white\",\"gridwidth\":2},\"yaxis\":{\"backgroundcolor\":\"#E5ECF6\",\"gridcolor\":\"white\",\"linecolor\":\"white\",\"showbackground\":true,\"ticks\":\"\",\"zerolinecolor\":\"white\",\"gridwidth\":2},\"zaxis\":{\"backgroundcolor\":\"#E5ECF6\",\"gridcolor\":\"white\",\"linecolor\":\"white\",\"showbackground\":true,\"ticks\":\"\",\"zerolinecolor\":\"white\",\"gridwidth\":2}},\"shapedefaults\":{\"line\":{\"color\":\"#2a3f5f\"}},\"annotationdefaults\":{\"arrowcolor\":\"#2a3f5f\",\"arrowhead\":0,\"arrowwidth\":1},\"geo\":{\"bgcolor\":\"white\",\"landcolor\":\"#E5ECF6\",\"subunitcolor\":\"white\",\"showland\":true,\"showlakes\":true,\"lakecolor\":\"white\"},\"title\":{\"x\":0.05},\"mapbox\":{\"style\":\"light\"}}},\"xaxis\":{\"anchor\":\"y\",\"domain\":[0.0,1.0],\"title\":{\"text\":\"x\"}},\"yaxis\":{\"anchor\":\"x\",\"domain\":[0.0,1.0],\"title\":{\"text\":\"y\"}},\"coloraxis\":{\"colorbar\":{\"title\":{\"text\":\"color\"}},\"colorscale\":[[0.0,\"rgb(0,0,255)\"],[1.0,\"rgb(255,0,0)\"]]},\"legend\":{\"title\":{\"text\":\"symbol\"},\"tracegroupgap\":0},\"margin\":{\"t\":60}},                        {\"responsive\": true}                    ).then(function(){\n",
       "                            \n",
       "var gd = document.getElementById('ab49377e-5487-400d-91a1-bde38a8d48f6');\n",
       "var x = new MutationObserver(function (mutations, observer) {{\n",
       "        var display = window.getComputedStyle(gd).display;\n",
       "        if (!display || display === 'none') {{\n",
       "            console.log([gd, 'removed!']);\n",
       "            Plotly.purge(gd);\n",
       "            observer.disconnect();\n",
       "        }}\n",
       "}});\n",
       "\n",
       "// Listen for the removal of the full notebook cells\n",
       "var notebookContainer = gd.closest('#notebook-container');\n",
       "if (notebookContainer) {{\n",
       "    x.observe(notebookContainer, {childList: true});\n",
       "}}\n",
       "\n",
       "// Listen for the clearing of the current output cell\n",
       "var outputEl = gd.closest('.output');\n",
       "if (outputEl) {{\n",
       "    x.observe(outputEl, {childList: true});\n",
       "}}\n",
       "\n",
       "                        })                };                });            </script>        </div>"
      ]
     },
     "metadata": {},
     "output_type": "display_data"
    }
   ],
   "source": [
    "scatter(\n",
    "    x = new_data[:, 0],\n",
    "    y = new_data[:, 1],\n",
    "    # z = new_data[:, 2],\n",
    "    size_max = 10,\n",
    "    color = labels.detach().squeeze().cpu().numpy(),\n",
    "    color_continuous_scale = 'bluered',\n",
    "    symbol = types.squeeze()\n",
    ")"
   ]
  },
  {
   "cell_type": "code",
   "execution_count": 94,
   "id": "94e6c88a-7c74-43a1-9587-d9dc520ab2f8",
   "metadata": {},
   "outputs": [
    {
     "data": {
      "application/vnd.plotly.v1+json": {
       "config": {
        "plotlyServerURL": "https://plot.ly"
       },
       "data": [
        {
         "hovertemplate": "symbol=0<br>x=%{x}<br>y=%{y}<br>color=%{marker.color}<extra></extra>",
         "legendgroup": "0",
         "marker": {
          "color": [
           0.001100114081054926,
           0.06893564015626907,
           0.933200478553772,
           0.036567848175764084,
           0.1324915587902069,
           0.0011672071414068341,
           0.001755507430061698,
           0.04067929834127426,
           0.00254443078301847,
           0.022114573046565056,
           0.015934711322188377,
           0.005358376074582338,
           0.0024073284585028887,
           0.4308699667453766,
           0.005188295152038336,
           0.02786913327872753,
           0.2602991759777069,
           0.26454824209213257,
           0.00038075089105404913,
           0.05227663740515709,
           0.06897307932376862,
           0.20426516234874725,
           0.029233107343316078,
           0.02712865173816681,
           0.0002886122092604637,
           2.0922816474922e-06,
           0.011038669385015965,
           0.013987578451633453,
           0.03009248524904251,
           0.0023523541167378426,
           0.9970631003379822,
           0.9987969398498535,
           0.9999405145645142,
           0.9996908903121948,
           0.999882698059082,
           0.9980606436729431,
           0.9930779337882996,
           0.9983125925064087,
           0.9999902248382568,
           1,
           0.9978817105293274,
           0.9972155094146729,
           0.9998496770858765,
           0.9986648559570312,
           0.9998470544815063,
           0.9997557997703552,
           0.6927124261856079,
           0.9892194867134094,
           0.9999885559082031,
           0.9997610449790955,
           0.9579929709434509,
           0.97076416015625,
           0.9891656041145325,
           0.997072696685791,
           0.9999986886978149,
           0.9851058721542358,
           0.9999998807907104,
           0.9999969005584717,
           0.9985162615776062,
           0.9999915361404419,
           0.0013465770753100514,
           0.00019375741248950362,
           0.0002886122092604637,
           0.02654889225959778,
           0.013341029174625874,
           0.15022706985473633,
           0.0011672071414068341,
           0.010071334429085255,
           0.6087990999221802,
           0.006712769158184528,
           0.02215893566608429,
           0.015934711322188377,
           0.060951389372348785,
           0.0020514363422989845,
           0.0016375998966395855,
           0.013979168608784676,
           0.00010773308895295486,
           0.014961506240069866,
           0.0004928865819238126,
           0.06893564015626907,
           0.3419669568538666,
           0.05718420445919037,
           0.005358376074582338,
           0.28169265389442444,
           0.002538041677325964,
           0.012987826019525528,
           0.027177097275853157,
           0.004068255424499512,
           0.33065226674079895,
           0.1072307899594307,
           0.999913215637207,
           0.9999557733535767,
           0.9891304969787598,
           0.9972155094146729,
           0.9999915361404419,
           0.9999967813491821,
           0.9995728135108948,
           0.9963894486427307,
           1,
           0.9998319149017334,
           1,
           0.9999405145645142,
           0.9978764057159424,
           0.9998719692230225,
           0.9983125925064087,
           0.9999969005584717,
           0.9978817105293274,
           0.9999170303344727,
           0.9999053478240967,
           0.9280632734298706,
           0.9891656041145325,
           0.9970631003379822,
           0.9999988079071045,
           0.9999958276748657,
           0.9997610449790955,
           1,
           0.9493535161018372,
           0.9998155236244202,
           0.9996629953384399,
           0.9995346069335938,
           0.26454824209213257,
           0.0013844814384356141,
           0.03138446807861328,
           0.04067929834127426,
           0.0002886122092604637,
           0.4406473934650421,
           0.07801254093647003,
           0.06897307932376862,
           0.0013465770753100514,
           0.038519781082868576,
           0.02712865173816681,
           0.0012837443500757217,
           0.03009248524904251,
           0.004232964012771845,
           0.009728686884045601,
           0.06893564015626907,
           0.04622546210885048,
           0.1363433599472046,
           0.026492532342672348,
           0.06819722801446915,
           0.022114573046565056,
           0.15022706985473633,
           0.006224480457603931,
           0.013987578451633453,
           0.016267141327261925,
           0.0006564423092640936,
           0.0020514363422989845,
           0.1107454001903534,
           0.7596737742424011,
           0.0016375998966395855,
           0.9999988079071045,
           0.9997654557228088,
           0.9999641180038452,
           0.6927124261856079,
           0.954315185546875,
           0.9984495639801025,
           0.9999279975891113,
           0.9943338632583618,
           0.9997084736824036,
           0.9963701963424683,
           0.9845050573348999,
           0.9978764057159424,
           0.9999680519104004,
           0.9999921321868896,
           0.997133731842041,
           0.9999958276748657,
           0.9998724460601807,
           0.9930779337882996,
           0.9998961687088013,
           0.9999778270721436,
           0.9989272952079773,
           0.9999783039093018,
           0.9891304969787598,
           0.9996908903121948,
           0.999908447265625,
           0.9999990463256836,
           0.9493535161018372,
           1,
           0.9999935626983643,
           1
          ],
          "coloraxis": "coloraxis",
          "symbol": "circle"
         },
         "mode": "markers",
         "name": "0",
         "orientation": "v",
         "showlegend": true,
         "type": "scatter",
         "x": [
          -16.020130157470703,
          -29.47900390625,
          -20.991193771362305,
          -27.27014923095703,
          -34.818115234375,
          -41.5279541015625,
          -30.283761978149414,
          -26.20891761779785,
          -17.806596755981445,
          -21.890941619873047,
          -23.476858139038086,
          -13.290787696838379,
          -7.095304012298584,
          -31.207061767578125,
          -4.964797019958496,
          -24.664718627929688,
          -22.46613121032715,
          -9.607479095458984,
          -14.83443546295166,
          -17.29005241394043,
          -27.041006088256836,
          -29.768007278442383,
          -19.30219268798828,
          -25.156471252441406,
          -33.630859375,
          -31.33399200439453,
          -12.470844268798828,
          -22.556045532226562,
          -26.88134002685547,
          -21.397424697875977,
          63.176761627197266,
          9.596159934997559,
          39.788917541503906,
          20.75295066833496,
          62.77391815185547,
          5.114988327026367,
          72.82070922851562,
          50.677066802978516,
          24.620784759521484,
          19.699111938476562,
          12.825265884399414,
          11.695100784301758,
          11.912042617797852,
          5.333094120025635,
          22.470108032226562,
          35.13108444213867,
          35.433223724365234,
          -23.840497970581055,
          28.03752326965332,
          31.76259994506836,
          3.854642868041992,
          -5.534692287445068,
          -12.017897605895996,
          55.98881530761719,
          15.315374374389648,
          -9.813594818115234,
          70.3044662475586,
          31.120607376098633,
          2.4362528324127197,
          26.853614807128906,
          -17.737531661987305,
          -27.150936126708984,
          -34.9023323059082,
          -32.206634521484375,
          0.9395195841789246,
          -2.4729621410369873,
          -41.5279541015625,
          -9.994928359985352,
          -23.091176986694336,
          -0.22001728415489197,
          -19.925670623779297,
          -22.40520477294922,
          -17.830312728881836,
          -10.232330322265625,
          -12.425312042236328,
          -11.101899147033691,
          -4.983118057250977,
          -14.386554718017578,
          -27.13494110107422,
          -29.723793029785156,
          -15.185214042663574,
          -33.69230270385742,
          -15.073037147521973,
          -6.217518329620361,
          -15.380511283874512,
          -12.302044868469238,
          -10.978618621826172,
          3.296985387802124,
          -27.780118942260742,
          -24.33929443359375,
          47.871803283691406,
          56.05128860473633,
          42.10520935058594,
          9.806257247924805,
          28.623165130615234,
          34.40182876586914,
          6.578044891357422,
          49.46939468383789,
          51.77235794067383,
          36.897865295410156,
          33.67086410522461,
          40.864288330078125,
          18.04509162902832,
          25.309505462646484,
          50.677066802978516,
          32.090476989746094,
          13.880303382873535,
          56.787723541259766,
          -1.0333247184753418,
          -1.9277284145355225,
          -13.357259750366211,
          64.76211547851562,
          9.863927841186523,
          39.21250534057617,
          31.552677154541016,
          49.574798583984375,
          -8.415303230285645,
          28.708925247192383,
          72.24874877929688,
          9.3588285446167,
          -10.62470817565918,
          -19.570213317871094,
          -35.226158142089844,
          -28.011751174926758,
          -33.630859375,
          -28.89164924621582,
          -34.468421936035156,
          -25.825265884399414,
          -17.737531661987305,
          -23.271316528320312,
          -23.514057159423828,
          -12.974302291870117,
          -28.15732192993164,
          -8.541648864746094,
          -19.215011596679688,
          -31.979549407958984,
          70.86083221435547,
          -26.089292526245117,
          -10.409174919128418,
          -8.002725601196289,
          -22.97336769104004,
          -1.72689950466156,
          -20.231355667114258,
          -21.703868865966797,
          -16.69219398498535,
          -26.739715576171875,
          -10.232330322265625,
          -19.542638778686523,
          -8.526071548461914,
          -12.425312042236328,
          10.893120765686035,
          5.434863090515137,
          35.09856414794922,
          36.875755310058594,
          -2.3907086849212646,
          68.6925048828125,
          5.845968723297119,
          2.2628209590911865,
          33.731021881103516,
          12.662912368774414,
          39.67543029785156,
          19.795425415039062,
          29.66005516052246,
          7.809622764587402,
          5.662391662597656,
          40.344200134277344,
          26.67931365966797,
          71.94225311279297,
          46.276607513427734,
          10.479308128356934,
          2.6428921222686768,
          19.938743591308594,
          42.10520935058594,
          21.380380630493164,
          26.028823852539062,
          18.358810424804688,
          -9.772327423095703,
          28.59958267211914,
          47.4724235534668,
          43.50237274169922
         ],
         "xaxis": "x",
         "y": [
          -47.88066482543945,
          -33.63496780395508,
          -18.35879135131836,
          -26.466651916503906,
          -10.053911209106445,
          14.022082328796387,
          -8.274619102478027,
          -4.964742183685303,
          5.7151594161987305,
          3.3098065853118896,
          -9.876036643981934,
          -10.39828109741211,
          -40.576053619384766,
          -40.02915954589844,
          -5.435479640960693,
          -38.81319046020508,
          -20.597360610961914,
          -31.20245361328125,
          4.53117036819458,
          -29.56232452392578,
          -36.05392837524414,
          -37.14748001098633,
          -42.71356964111328,
          -44.19548034667969,
          -3.6481471061706543,
          0.9192808270454407,
          -50.971397399902344,
          -27.978450775146484,
          -16.231250762939453,
          34.99501037597656,
          24.588626861572266,
          5.843109607696533,
          -2.8451008796691895,
          -7.817448139190674,
          6.286379814147949,
          8.494173049926758,
          28.91742706298828,
          13.24339485168457,
          1.605539083480835,
          14.35598373413086,
          -7.074411392211914,
          2.3968329429626465,
          -0.9062280058860779,
          1.2525177001953125,
          -1.9767447710037231,
          -0.3579188585281372,
          -16.86391830444336,
          6.806054592132568,
          1.5733575820922852,
          1.784334421157837,
          -9.36656665802002,
          9.960335731506348,
          25.387144088745117,
          15.901214599609375,
          23.334768295288086,
          10.202669143676758,
          14.097335815429688,
          -6.59429931640625,
          2.9863126277923584,
          -1.8533722162246704,
          13.108060836791992,
          -0.3121534585952759,
          -1.660765528678894,
          -35.817195892333984,
          -11.46172046661377,
          -13.85876178741455,
          14.022082328796387,
          -13.103075981140137,
          -48.79718017578125,
          -32.82171630859375,
          -32.36661911010742,
          -8.4273099899292,
          1.605708360671997,
          -44.77412033081055,
          -20.207895278930664,
          -0.13962526619434357,
          -49.40150451660156,
          -0.1746300756931305,
          2.2255282402038574,
          -31.00358772277832,
          -13.68932056427002,
          -43.05502700805664,
          -10.210882186889648,
          -13.89026165008545,
          -51.27675247192383,
          -3.382493734359741,
          -53.509735107421875,
          -32.5867805480957,
          -40.01777648925781,
          -24.877668380737305,
          3.89815092086792,
          -13.3115234375,
          10.667887687683105,
          2.0887746810913086,
          -2.3951609134674072,
          4.9490838050842285,
          12.553754806518555,
          2.0504651069641113,
          -8.93143367767334,
          7.170921325683594,
          12.96550464630127,
          -1.313136339187622,
          6.505383491516113,
          28.432836532592773,
          13.24339485168457,
          -4.971518039703369,
          -5.628942966461182,
          -5.622461318969727,
          9.354011535644531,
          12.113982200622559,
          24.105606079101562,
          25.360565185546875,
          23.101648330688477,
          4.0722246170043945,
          -0.0645153596997261,
          -14.883072853088379,
          21.71843147277832,
          -10.832204818725586,
          24.529125213623047,
          -3.590524435043335,
          -32.6823616027832,
          -47.92367935180664,
          -35.2984504699707,
          -5.063760280609131,
          -3.6481471061706543,
          -42.34648895263672,
          -38.85923767089844,
          -34.1119384765625,
          13.108060836791992,
          -36.41189193725586,
          -42.6476936340332,
          -46.51742935180664,
          -17.4340763092041,
          -5.639884948730469,
          -27.066551208496094,
          -32.39735794067383,
          40.09183120727539,
          -30.971364974975586,
          -49.17678451538086,
          -3.1958272457122803,
          1.8554731607437134,
          -15.4931640625,
          -0.8101780414581299,
          -29.79295539855957,
          -3.9087815284729004,
          16.166501998901367,
          -44.77412033081055,
          -24.17338752746582,
          0.6757155060768127,
          -20.207895278930664,
          21.653282165527344,
          18.891651153564453,
          -7.31874418258667,
          -15.844812393188477,
          3.8394393920898438,
          37.031219482421875,
          14.764543533325195,
          6.50512170791626,
          20.24345588684082,
          -15.30491828918457,
          16.916240692138672,
          7.118779182434082,
          5.561978816986084,
          -0.6715895533561707,
          3.9015331268310547,
          5.541919708251953,
          -5.945242404937744,
          30.58840560913086,
          1.5889536142349243,
          11.879228591918945,
          14.872180938720703,
          3.869767904281616,
          10.667887687683105,
          -9.456923484802246,
          4.91732120513916,
          -1.6720820665359497,
          20.4468994140625,
          14.741125106811523,
          7.194557189941406,
          -9.342283248901367
         ],
         "yaxis": "y"
        },
        {
         "hovertemplate": "symbol=1<br>x=%{x}<br>y=%{y}<br>color=%{marker.color}<extra></extra>",
         "legendgroup": "1",
         "marker": {
          "color": [
           1,
           1,
           1,
           1,
           1,
           1,
           1,
           1,
           1,
           1,
           1,
           1,
           1,
           1,
           1,
           1,
           1,
           1,
           1,
           1,
           1,
           1,
           1,
           1,
           1,
           1,
           1,
           1,
           1,
           1,
           5.970795768917014e-08,
           2.369134333157774e-10,
           1.0770867531206818e-09,
           3.8500886923031885e-09,
           1.799656118572912e-10,
           1.6444792749759074e-10,
           3.6421949900500294e-09,
           8.057934319793958e-10,
           3.671378578928852e-08,
           1,
           3.1561146057734746e-11,
           1.981817623420215e-13,
           1.6235164254641e-11,
           1.959324716360733e-11,
           3.858071639939453e-09,
           1.00007984116246e-08,
           1.0122453222849437e-11,
           2.170881356622356e-11,
           6.158376475440264e-09,
           3.384018842922387e-09,
           2.843269023000694e-11,
           6.672077557112743e-09,
           2.733980949346914e-14,
           1.2990064579554428e-09,
           2.3237289870081668e-09,
           5.40640865409614e-09,
           6.036627553385188e-08,
           1.8175603599956958e-07,
           2.5201919544304285e-12,
           7.835464543859416e-08,
           1,
           1,
           1,
           0.9999998807907104,
           1,
           1,
           1,
           1,
           1,
           1,
           1,
           1,
           1,
           0.9999996423721313,
           1,
           1,
           0.999996542930603,
           1,
           1,
           1,
           1,
           1,
           1,
           1,
           0.9999998807907104,
           1,
           1,
           1,
           1,
           1,
           2.108751923080021e-10,
           4.026097510934079e-11,
           4.780112937419201e-12,
           1.981817623420215e-13,
           7.835464543859416e-08,
           7.930499812403013e-09,
           2.2376853703320876e-09,
           4.8079656575494845e-12,
           1,
           2.855896075182329e-10,
           1,
           1.0770867531206818e-09,
           7.366344340065112e-11,
           8.550315455657653e-10,
           8.057934319793958e-10,
           1.8175603599956958e-07,
           3.1561146057734746e-11,
           5.498071442566754e-11,
           7.640129240371607e-08,
           6.096323446058705e-11,
           2.733980949346914e-14,
           5.970795768917014e-08,
           4.6635656758553523e-07,
           3.616478227996822e-09,
           3.384018842922387e-09,
           1,
           1.8271850503980003e-13,
           9.425558289422042e-08,
           1.1486464757126669e-07,
           7.303030957750423e-10,
           1,
           1,
           1,
           1,
           1,
           1,
           1,
           1,
           1,
           1,
           1,
           0.9999998807907104,
           1,
           1,
           1,
           1,
           1,
           1,
           1,
           1,
           1,
           1,
           1,
           1,
           1,
           1,
           0.9999996423721313,
           1,
           1,
           1,
           4.6635656758553523e-07,
           1.4053440189343291e-08,
           2.010337230018422e-09,
           1.0122453222849437e-11,
           2.466796766853463e-10,
           2.2350110651103705e-09,
           1.0400200523008607e-07,
           2.1655724435909462e-10,
           1.8197856416213298e-11,
           2.505719520762284e-10,
           1.3065248882782043e-10,
           7.366344340065112e-11,
           2.7793350954041784e-10,
           1.659330273184878e-08,
           2.991337039182085e-11,
           3.616478227996822e-09,
           1.2655124059790523e-08,
           3.6421949900500294e-09,
           8.862785172425447e-09,
           3.6359273369868106e-09,
           5.630292898572975e-10,
           9.93055970788248e-10,
           4.780112937419201e-12,
           3.8500886923031885e-09,
           2.254977760074439e-09,
           1.001842520054197e-07,
           1.8271850503980003e-13,
           1,
           6.316402401118637e-10,
           1
          ],
          "coloraxis": "coloraxis",
          "symbol": "diamond"
         },
         "mode": "markers",
         "name": "1",
         "orientation": "v",
         "showlegend": true,
         "type": "scatter",
         "x": [
          -50.491458892822266,
          -73.13935089111328,
          -58.07407760620117,
          -66.54778289794922,
          -37.06622314453125,
          -48.86372375488281,
          -73.37467956542969,
          -72.9745101928711,
          -63.21769714355469,
          -65.84927368164062,
          -76.52169036865234,
          -50.211997985839844,
          -46.415557861328125,
          -67.42157745361328,
          -54.35031509399414,
          -60.64898681640625,
          -57.751914978027344,
          -53.381229400634766,
          -66.25798034667969,
          -72.71475219726562,
          -64.94815826416016,
          -63.75026321411133,
          -53.28131866455078,
          -58.2934455871582,
          -73.26436614990234,
          -68.31034088134766,
          -44.07447052001953,
          -68.99636840820312,
          -53.93265914916992,
          -23.201332092285156,
          62.2125244140625,
          17.047670364379883,
          37.84075164794922,
          31.248443603515625,
          63.733428955078125,
          24.703311920166016,
          76.2134017944336,
          55.146270751953125,
          32.65503692626953,
          19.699111938476562,
          28.120485305786133,
          24.59600830078125,
          28.2534236907959,
          27.58720588684082,
          34.85737228393555,
          48.750526428222656,
          59.93417739868164,
          8.73354721069336,
          39.33095169067383,
          36.48875427246094,
          46.653446197509766,
          10.854105949401855,
          -6.294948577880859,
          57.063446044921875,
          17.021442413330078,
          16.26100730895996,
          71.54090881347656,
          49.041385650634766,
          23.678302764892578,
          40.407955169677734,
          -62.91297912597656,
          -72.23535919189453,
          -70.92271423339844,
          -68.2375717163086,
          -47.75596618652344,
          -2.842759847640991,
          -49.22048568725586,
          -49.925086975097656,
          -25.484399795532227,
          -43.130027770996094,
          -70.83209228515625,
          -76.5558853149414,
          -62.756656646728516,
          -50.829471588134766,
          -63.47305679321289,
          -58.377227783203125,
          -2.5640523433685303,
          -60.405513763427734,
          -70.08489990234375,
          -73.13935089111328,
          -46.98431396484375,
          -61.523616790771484,
          -50.272560119628906,
          -46.40339279174805,
          -47.15634536743164,
          -57.200775146484375,
          -39.6358642578125,
          5.573294639587402,
          -65.65855407714844,
          -67.63796997070312,
          50.845420837402344,
          58.2517204284668,
          44.1191291809082,
          24.59600830078125,
          40.407955169677734,
          41.5296745300293,
          22.34200096130371,
          49.976863861083984,
          53.441986083984375,
          47.19617462158203,
          32.812625885009766,
          37.658119201660156,
          41.24443817138672,
          26.214923858642578,
          53.383888244628906,
          50.62983703613281,
          28.120485305786133,
          58.519378662109375,
          12.907220840454102,
          14.2111234664917,
          -7.2552337646484375,
          62.2125244140625,
          13.019356727600098,
          44.5394287109375,
          36.48875427246094,
          50.69057846069336,
          -2.4587905406951904,
          44.23374557495117,
          74.08074188232422,
          32.25211715698242,
          -53.381229400634766,
          -51.53166580200195,
          -68.87993621826172,
          -72.67801666259766,
          -73.26436614990234,
          -64.35749053955078,
          -71.075439453125,
          -64.26358795166016,
          -62.91297912597656,
          -61.995582580566406,
          -58.2934455871582,
          -49.82371520996094,
          -53.93265914916992,
          -51.580810546875,
          -71.64527130126953,
          -73.13935089111328,
          72.37554931640625,
          -72.67279052734375,
          -44.2383918762207,
          -53.12833023071289,
          -65.84927368164062,
          -0.9998894929885864,
          -64.7032241821289,
          -69.51656341552734,
          -59.41200637817383,
          -29.050477981567383,
          -48.983238220214844,
          -73.41478729248047,
          -56.63767623901367,
          -63.47305679321289,
          14.556663513183594,
          9.778596878051758,
          54.23569869995117,
          59.93417739868164,
          17.255067825317383,
          66.53292083740234,
          25.310218811035156,
          20.84054183959961,
          34.657745361328125,
          33.63162612915039,
          40.167911529541016,
          39.67380905151367,
          43.81608581542969,
          30.878328323364258,
          22.159143447875977,
          43.492942810058594,
          49.39258575439453,
          76.2134017944336,
          53.857093811035156,
          28.27933120727539,
          18.349502563476562,
          39.40055847167969,
          44.1191291809082,
          29.652267456054688,
          35.36299133300781,
          31.626157760620117,
          -3.38997483253479,
          28.15224838256836,
          53.666160583496094,
          43.50237274169922
         ],
         "xaxis": "x",
         "y": [
          -48.62306213378906,
          -49.194942474365234,
          -13.33486557006836,
          -26.07084846496582,
          -11.253799438476562,
          12.89309310913086,
          -16.711782455444336,
          -0.8429912328720093,
          2.5699055194854736,
          -5.434386253356934,
          -5.603644847869873,
          -13.562273025512695,
          -3.4473323822021484,
          -44.61760330200195,
          -4.3092780113220215,
          -34.51926803588867,
          -15.548057556152344,
          -31.50626564025879,
          -10.489425659179688,
          -26.86454200744629,
          -37.88462448120117,
          -40.46425247192383,
          -38.54384994506836,
          -40.706024169921875,
          -11.686197280883789,
          -0.6473464965820312,
          -49.16633605957031,
          -27.702054977416992,
          -19.627002716064453,
          34.80312728881836,
          29.881669998168945,
          52.422122955322266,
          33.957637786865234,
          35.08778381347656,
          7.971558094024658,
          43.65424346923828,
          31.45389747619629,
          36.11139678955078,
          46.7396125793457,
          14.35598373413086,
          63.166542053222656,
          57.07242965698242,
          56.24180221557617,
          51.37290573120117,
          40.31293869018555,
          38.73251724243164,
          47.002197265625,
          46.247352600097656,
          40.363800048828125,
          44.02066421508789,
          56.923622131347656,
          42.74596405029297,
          33.89057540893555,
          17.694734573364258,
          26.310335159301758,
          57.230655670166016,
          15.416501998901367,
          44.65090560913086,
          51.486385345458984,
          44.32600021362305,
          7.82180118560791,
          -5.7287726402282715,
          -12.150774002075195,
          -39.60578918457031,
          0.6562802195549011,
          -20.71825408935547,
          14.698080062866211,
          -6.952345848083496,
          -50.83323669433594,
          -22.618507385253906,
          -30.903423309326172,
          -3.7094781398773193,
          -3.539166212081909,
          -54.846187591552734,
          -17.970596313476562,
          1.5430495738983154,
          -51.68085479736328,
          -1.0646281242370605,
          -4.385814189910889,
          -49.194942474365234,
          -13.05655288696289,
          -46.372642517089844,
          -11.738920211791992,
          -8.895282745361328,
          -48.40959930419922,
          -2.6306796073913574,
          -51.51866149902344,
          -32.63518524169922,
          -50.07513427734375,
          -23.03614044189453,
          26.503257751464844,
          -13.990755081176758,
          27.856548309326172,
          57.07242965698242,
          44.32600021362305,
          38.54597091674805,
          40.75104522705078,
          24.460451126098633,
          -9.507149696350098,
          32.45559310913086,
          11.415943145751953,
          32.16033172607422,
          53.36623001098633,
          30.09237289428711,
          36.33891677856445,
          45.4969367980957,
          63.166542053222656,
          -4.212857246398926,
          43.66183090209961,
          40.390602111816406,
          35.574432373046875,
          29.881669998168945,
          29.16373062133789,
          34.92514419555664,
          44.02066421508789,
          -16.254661560058594,
          36.17329788208008,
          42.27089309692383,
          23.5944766998291,
          51.96281814575195,
          -31.50626564025879,
          -45.683963775634766,
          -35.12236404418945,
          0.9947559833526611,
          -11.686197280883789,
          -48.60182189941406,
          -39.73594284057617,
          -35.822364807128906,
          7.82180118560791,
          -37.70069885253906,
          -40.706024169921875,
          -51.498321533203125,
          -19.627002716064453,
          -2.4110419750213623,
          -23.21849250793457,
          -49.194942474365234,
          41.159339904785156,
          -37.039833068847656,
          -51.26424789428711,
          -0.6847835183143616,
          -5.434386253356934,
          -20.634309768676758,
          -1.252098798751831,
          -25.757631301879883,
          -5.961752891540527,
          16.891002655029297,
          -55.037601470947266,
          -20.716676712036133,
          3.58398175239563,
          -17.970596313476562,
          29.985300064086914,
          38.935264587402344,
          42.11317443847656,
          47.002197265625,
          44.71581268310547,
          36.2504768371582,
          40.03420639038086,
          42.35978317260742,
          22.31090545654297,
          58.21837615966797,
          19.763341903686523,
          54.29704284667969,
          48.422515869140625,
          48.877418518066406,
          54.63188934326172,
          33.43584442138672,
          50.93043518066406,
          31.45389747619629,
          24.9285888671875,
          46.71184158325195,
          58.780540466308594,
          48.9640007019043,
          27.856548309326172,
          35.818180084228516,
          48.74026870727539,
          41.02062225341797,
          37.81608963012695,
          13.003046989440918,
          30.597614288330078,
          -9.342283248901367
         ],
         "yaxis": "y"
        }
       ],
       "layout": {
        "autosize": true,
        "coloraxis": {
         "colorbar": {
          "title": {
           "text": "color"
          }
         },
         "colorscale": [
          [
           0,
           "rgb(0,0,255)"
          ],
          [
           1,
           "rgb(255,0,0)"
          ]
         ]
        },
        "legend": {
         "title": {
          "text": "symbol"
         },
         "tracegroupgap": 0
        },
        "margin": {
         "t": 60
        },
        "template": {
         "data": {
          "bar": [
           {
            "error_x": {
             "color": "#2a3f5f"
            },
            "error_y": {
             "color": "#2a3f5f"
            },
            "marker": {
             "line": {
              "color": "#E5ECF6",
              "width": 0.5
             },
             "pattern": {
              "fillmode": "overlay",
              "size": 10,
              "solidity": 0.2
             }
            },
            "type": "bar"
           }
          ],
          "barpolar": [
           {
            "marker": {
             "line": {
              "color": "#E5ECF6",
              "width": 0.5
             },
             "pattern": {
              "fillmode": "overlay",
              "size": 10,
              "solidity": 0.2
             }
            },
            "type": "barpolar"
           }
          ],
          "carpet": [
           {
            "aaxis": {
             "endlinecolor": "#2a3f5f",
             "gridcolor": "white",
             "linecolor": "white",
             "minorgridcolor": "white",
             "startlinecolor": "#2a3f5f"
            },
            "baxis": {
             "endlinecolor": "#2a3f5f",
             "gridcolor": "white",
             "linecolor": "white",
             "minorgridcolor": "white",
             "startlinecolor": "#2a3f5f"
            },
            "type": "carpet"
           }
          ],
          "choropleth": [
           {
            "colorbar": {
             "outlinewidth": 0,
             "ticks": ""
            },
            "type": "choropleth"
           }
          ],
          "contour": [
           {
            "colorbar": {
             "outlinewidth": 0,
             "ticks": ""
            },
            "colorscale": [
             [
              0,
              "#0d0887"
             ],
             [
              0.1111111111111111,
              "#46039f"
             ],
             [
              0.2222222222222222,
              "#7201a8"
             ],
             [
              0.3333333333333333,
              "#9c179e"
             ],
             [
              0.4444444444444444,
              "#bd3786"
             ],
             [
              0.5555555555555556,
              "#d8576b"
             ],
             [
              0.6666666666666666,
              "#ed7953"
             ],
             [
              0.7777777777777778,
              "#fb9f3a"
             ],
             [
              0.8888888888888888,
              "#fdca26"
             ],
             [
              1,
              "#f0f921"
             ]
            ],
            "type": "contour"
           }
          ],
          "contourcarpet": [
           {
            "colorbar": {
             "outlinewidth": 0,
             "ticks": ""
            },
            "type": "contourcarpet"
           }
          ],
          "heatmap": [
           {
            "colorbar": {
             "outlinewidth": 0,
             "ticks": ""
            },
            "colorscale": [
             [
              0,
              "#0d0887"
             ],
             [
              0.1111111111111111,
              "#46039f"
             ],
             [
              0.2222222222222222,
              "#7201a8"
             ],
             [
              0.3333333333333333,
              "#9c179e"
             ],
             [
              0.4444444444444444,
              "#bd3786"
             ],
             [
              0.5555555555555556,
              "#d8576b"
             ],
             [
              0.6666666666666666,
              "#ed7953"
             ],
             [
              0.7777777777777778,
              "#fb9f3a"
             ],
             [
              0.8888888888888888,
              "#fdca26"
             ],
             [
              1,
              "#f0f921"
             ]
            ],
            "type": "heatmap"
           }
          ],
          "heatmapgl": [
           {
            "colorbar": {
             "outlinewidth": 0,
             "ticks": ""
            },
            "colorscale": [
             [
              0,
              "#0d0887"
             ],
             [
              0.1111111111111111,
              "#46039f"
             ],
             [
              0.2222222222222222,
              "#7201a8"
             ],
             [
              0.3333333333333333,
              "#9c179e"
             ],
             [
              0.4444444444444444,
              "#bd3786"
             ],
             [
              0.5555555555555556,
              "#d8576b"
             ],
             [
              0.6666666666666666,
              "#ed7953"
             ],
             [
              0.7777777777777778,
              "#fb9f3a"
             ],
             [
              0.8888888888888888,
              "#fdca26"
             ],
             [
              1,
              "#f0f921"
             ]
            ],
            "type": "heatmapgl"
           }
          ],
          "histogram": [
           {
            "marker": {
             "pattern": {
              "fillmode": "overlay",
              "size": 10,
              "solidity": 0.2
             }
            },
            "type": "histogram"
           }
          ],
          "histogram2d": [
           {
            "colorbar": {
             "outlinewidth": 0,
             "ticks": ""
            },
            "colorscale": [
             [
              0,
              "#0d0887"
             ],
             [
              0.1111111111111111,
              "#46039f"
             ],
             [
              0.2222222222222222,
              "#7201a8"
             ],
             [
              0.3333333333333333,
              "#9c179e"
             ],
             [
              0.4444444444444444,
              "#bd3786"
             ],
             [
              0.5555555555555556,
              "#d8576b"
             ],
             [
              0.6666666666666666,
              "#ed7953"
             ],
             [
              0.7777777777777778,
              "#fb9f3a"
             ],
             [
              0.8888888888888888,
              "#fdca26"
             ],
             [
              1,
              "#f0f921"
             ]
            ],
            "type": "histogram2d"
           }
          ],
          "histogram2dcontour": [
           {
            "colorbar": {
             "outlinewidth": 0,
             "ticks": ""
            },
            "colorscale": [
             [
              0,
              "#0d0887"
             ],
             [
              0.1111111111111111,
              "#46039f"
             ],
             [
              0.2222222222222222,
              "#7201a8"
             ],
             [
              0.3333333333333333,
              "#9c179e"
             ],
             [
              0.4444444444444444,
              "#bd3786"
             ],
             [
              0.5555555555555556,
              "#d8576b"
             ],
             [
              0.6666666666666666,
              "#ed7953"
             ],
             [
              0.7777777777777778,
              "#fb9f3a"
             ],
             [
              0.8888888888888888,
              "#fdca26"
             ],
             [
              1,
              "#f0f921"
             ]
            ],
            "type": "histogram2dcontour"
           }
          ],
          "mesh3d": [
           {
            "colorbar": {
             "outlinewidth": 0,
             "ticks": ""
            },
            "type": "mesh3d"
           }
          ],
          "parcoords": [
           {
            "line": {
             "colorbar": {
              "outlinewidth": 0,
              "ticks": ""
             }
            },
            "type": "parcoords"
           }
          ],
          "pie": [
           {
            "automargin": true,
            "type": "pie"
           }
          ],
          "scatter": [
           {
            "fillpattern": {
             "fillmode": "overlay",
             "size": 10,
             "solidity": 0.2
            },
            "type": "scatter"
           }
          ],
          "scatter3d": [
           {
            "line": {
             "colorbar": {
              "outlinewidth": 0,
              "ticks": ""
             }
            },
            "marker": {
             "colorbar": {
              "outlinewidth": 0,
              "ticks": ""
             }
            },
            "type": "scatter3d"
           }
          ],
          "scattercarpet": [
           {
            "marker": {
             "colorbar": {
              "outlinewidth": 0,
              "ticks": ""
             }
            },
            "type": "scattercarpet"
           }
          ],
          "scattergeo": [
           {
            "marker": {
             "colorbar": {
              "outlinewidth": 0,
              "ticks": ""
             }
            },
            "type": "scattergeo"
           }
          ],
          "scattergl": [
           {
            "marker": {
             "colorbar": {
              "outlinewidth": 0,
              "ticks": ""
             }
            },
            "type": "scattergl"
           }
          ],
          "scattermapbox": [
           {
            "marker": {
             "colorbar": {
              "outlinewidth": 0,
              "ticks": ""
             }
            },
            "type": "scattermapbox"
           }
          ],
          "scatterpolar": [
           {
            "marker": {
             "colorbar": {
              "outlinewidth": 0,
              "ticks": ""
             }
            },
            "type": "scatterpolar"
           }
          ],
          "scatterpolargl": [
           {
            "marker": {
             "colorbar": {
              "outlinewidth": 0,
              "ticks": ""
             }
            },
            "type": "scatterpolargl"
           }
          ],
          "scatterternary": [
           {
            "marker": {
             "colorbar": {
              "outlinewidth": 0,
              "ticks": ""
             }
            },
            "type": "scatterternary"
           }
          ],
          "surface": [
           {
            "colorbar": {
             "outlinewidth": 0,
             "ticks": ""
            },
            "colorscale": [
             [
              0,
              "#0d0887"
             ],
             [
              0.1111111111111111,
              "#46039f"
             ],
             [
              0.2222222222222222,
              "#7201a8"
             ],
             [
              0.3333333333333333,
              "#9c179e"
             ],
             [
              0.4444444444444444,
              "#bd3786"
             ],
             [
              0.5555555555555556,
              "#d8576b"
             ],
             [
              0.6666666666666666,
              "#ed7953"
             ],
             [
              0.7777777777777778,
              "#fb9f3a"
             ],
             [
              0.8888888888888888,
              "#fdca26"
             ],
             [
              1,
              "#f0f921"
             ]
            ],
            "type": "surface"
           }
          ],
          "table": [
           {
            "cells": {
             "fill": {
              "color": "#EBF0F8"
             },
             "line": {
              "color": "white"
             }
            },
            "header": {
             "fill": {
              "color": "#C8D4E3"
             },
             "line": {
              "color": "white"
             }
            },
            "type": "table"
           }
          ]
         },
         "layout": {
          "annotationdefaults": {
           "arrowcolor": "#2a3f5f",
           "arrowhead": 0,
           "arrowwidth": 1
          },
          "autotypenumbers": "strict",
          "coloraxis": {
           "colorbar": {
            "outlinewidth": 0,
            "ticks": ""
           }
          },
          "colorscale": {
           "diverging": [
            [
             0,
             "#8e0152"
            ],
            [
             0.1,
             "#c51b7d"
            ],
            [
             0.2,
             "#de77ae"
            ],
            [
             0.3,
             "#f1b6da"
            ],
            [
             0.4,
             "#fde0ef"
            ],
            [
             0.5,
             "#f7f7f7"
            ],
            [
             0.6,
             "#e6f5d0"
            ],
            [
             0.7,
             "#b8e186"
            ],
            [
             0.8,
             "#7fbc41"
            ],
            [
             0.9,
             "#4d9221"
            ],
            [
             1,
             "#276419"
            ]
           ],
           "sequential": [
            [
             0,
             "#0d0887"
            ],
            [
             0.1111111111111111,
             "#46039f"
            ],
            [
             0.2222222222222222,
             "#7201a8"
            ],
            [
             0.3333333333333333,
             "#9c179e"
            ],
            [
             0.4444444444444444,
             "#bd3786"
            ],
            [
             0.5555555555555556,
             "#d8576b"
            ],
            [
             0.6666666666666666,
             "#ed7953"
            ],
            [
             0.7777777777777778,
             "#fb9f3a"
            ],
            [
             0.8888888888888888,
             "#fdca26"
            ],
            [
             1,
             "#f0f921"
            ]
           ],
           "sequentialminus": [
            [
             0,
             "#0d0887"
            ],
            [
             0.1111111111111111,
             "#46039f"
            ],
            [
             0.2222222222222222,
             "#7201a8"
            ],
            [
             0.3333333333333333,
             "#9c179e"
            ],
            [
             0.4444444444444444,
             "#bd3786"
            ],
            [
             0.5555555555555556,
             "#d8576b"
            ],
            [
             0.6666666666666666,
             "#ed7953"
            ],
            [
             0.7777777777777778,
             "#fb9f3a"
            ],
            [
             0.8888888888888888,
             "#fdca26"
            ],
            [
             1,
             "#f0f921"
            ]
           ]
          },
          "colorway": [
           "#636efa",
           "#EF553B",
           "#00cc96",
           "#ab63fa",
           "#FFA15A",
           "#19d3f3",
           "#FF6692",
           "#B6E880",
           "#FF97FF",
           "#FECB52"
          ],
          "font": {
           "color": "#2a3f5f"
          },
          "geo": {
           "bgcolor": "white",
           "lakecolor": "white",
           "landcolor": "#E5ECF6",
           "showlakes": true,
           "showland": true,
           "subunitcolor": "white"
          },
          "hoverlabel": {
           "align": "left"
          },
          "hovermode": "closest",
          "mapbox": {
           "style": "light"
          },
          "paper_bgcolor": "white",
          "plot_bgcolor": "#E5ECF6",
          "polar": {
           "angularaxis": {
            "gridcolor": "white",
            "linecolor": "white",
            "ticks": ""
           },
           "bgcolor": "#E5ECF6",
           "radialaxis": {
            "gridcolor": "white",
            "linecolor": "white",
            "ticks": ""
           }
          },
          "scene": {
           "xaxis": {
            "backgroundcolor": "#E5ECF6",
            "gridcolor": "white",
            "gridwidth": 2,
            "linecolor": "white",
            "showbackground": true,
            "ticks": "",
            "zerolinecolor": "white"
           },
           "yaxis": {
            "backgroundcolor": "#E5ECF6",
            "gridcolor": "white",
            "gridwidth": 2,
            "linecolor": "white",
            "showbackground": true,
            "ticks": "",
            "zerolinecolor": "white"
           },
           "zaxis": {
            "backgroundcolor": "#E5ECF6",
            "gridcolor": "white",
            "gridwidth": 2,
            "linecolor": "white",
            "showbackground": true,
            "ticks": "",
            "zerolinecolor": "white"
           }
          },
          "shapedefaults": {
           "line": {
            "color": "#2a3f5f"
           }
          },
          "ternary": {
           "aaxis": {
            "gridcolor": "white",
            "linecolor": "white",
            "ticks": ""
           },
           "baxis": {
            "gridcolor": "white",
            "linecolor": "white",
            "ticks": ""
           },
           "bgcolor": "#E5ECF6",
           "caxis": {
            "gridcolor": "white",
            "linecolor": "white",
            "ticks": ""
           }
          },
          "title": {
           "x": 0.05
          },
          "xaxis": {
           "automargin": true,
           "gridcolor": "white",
           "linecolor": "white",
           "ticks": "",
           "title": {
            "standoff": 15
           },
           "zerolinecolor": "white",
           "zerolinewidth": 2
          },
          "yaxis": {
           "automargin": true,
           "gridcolor": "white",
           "linecolor": "white",
           "ticks": "",
           "title": {
            "standoff": 15
           },
           "zerolinecolor": "white",
           "zerolinewidth": 2
          }
         }
        },
        "xaxis": {
         "anchor": "y",
         "autorange": true,
         "domain": [
          0,
          1
         ],
         "range": [
          -85.84253878906065,
          85.50005526855284
         ],
         "title": {
          "text": "x"
         },
         "type": "linear"
        },
        "yaxis": {
         "anchor": "x",
         "autorange": true,
         "domain": [
          0,
          1
         ],
         "range": [
          -64.18989079893417,
          72.31883138120956
         ],
         "title": {
          "text": "y"
         },
         "type": "linear"
        }
       }
      },
      "image/png": "[encoded data removed]",
      "text/html": [
       "<div>                            <div id=\"68354ff1-49a3-4ca8-9411-9fcd8ffe469f\" class=\"plotly-graph-div\" style=\"height:525px; width:100%;\"></div>            <script type=\"text/javascript\">                require([\"plotly\"], function(Plotly) {                    window.PLOTLYENV=window.PLOTLYENV || {};                                    if (document.getElementById(\"68354ff1-49a3-4ca8-9411-9fcd8ffe469f\")) {                    Plotly.newPlot(                        \"68354ff1-49a3-4ca8-9411-9fcd8ffe469f\",                        [{\"hovertemplate\":\"symbol=0\\u003cbr\\u003ex=%{x}\\u003cbr\\u003ey=%{y}\\u003cbr\\u003ecolor=%{marker.color}\\u003cextra\\u003e\\u003c\\u002fextra\\u003e\",\"legendgroup\":\"0\",\"marker\":{\"color\":[0.001100114081054926,0.06893564015626907,0.933200478553772,0.036567848175764084,0.1324915587902069,0.0011672071414068341,0.001755507430061698,0.04067929834127426,0.00254443078301847,0.022114573046565056,0.015934711322188377,0.005358376074582338,0.0024073284585028887,0.4308699667453766,0.005188295152038336,0.02786913327872753,0.2602991759777069,0.26454824209213257,0.00038075089105404913,0.05227663740515709,0.06897307932376862,0.20426516234874725,0.029233107343316078,0.02712865173816681,0.0002886122092604637,2.0922816474922e-06,0.011038669385015965,0.013987578451633453,0.03009248524904251,0.0023523541167378426,0.9970631003379822,0.9987969398498535,0.9999405145645142,0.9996908903121948,0.999882698059082,0.9980606436729431,0.9930779337882996,0.9983125925064087,0.9999902248382568,1.0,0.9978817105293274,0.9972155094146729,0.9998496770858765,0.9986648559570312,0.9998470544815063,0.9997557997703552,0.6927124261856079,0.9892194867134094,0.9999885559082031,0.9997610449790955,0.9579929709434509,0.97076416015625,0.9891656041145325,0.997072696685791,0.9999986886978149,0.9851058721542358,0.9999998807907104,0.9999969005584717,0.9985162615776062,0.9999915361404419,0.0013465770753100514,0.00019375741248950362,0.0002886122092604637,0.02654889225959778,0.013341029174625874,0.15022706985473633,0.0011672071414068341,0.010071334429085255,0.6087990999221802,0.006712769158184528,0.02215893566608429,0.015934711322188377,0.060951389372348785,0.0020514363422989845,0.0016375998966395855,0.013979168608784676,0.00010773308895295486,0.014961506240069866,0.0004928865819238126,0.06893564015626907,0.3419669568538666,0.05718420445919037,0.005358376074582338,0.28169265389442444,0.002538041677325964,0.012987826019525528,0.027177097275853157,0.004068255424499512,0.33065226674079895,0.1072307899594307,0.999913215637207,0.9999557733535767,0.9891304969787598,0.9972155094146729,0.9999915361404419,0.9999967813491821,0.9995728135108948,0.9963894486427307,1.0,0.9998319149017334,1.0,0.9999405145645142,0.9978764057159424,0.9998719692230225,0.9983125925064087,0.9999969005584717,0.9978817105293274,0.9999170303344727,0.9999053478240967,0.9280632734298706,0.9891656041145325,0.9970631003379822,0.9999988079071045,0.9999958276748657,0.9997610449790955,1.0,0.9493535161018372,0.9998155236244202,0.9996629953384399,0.9995346069335938,0.26454824209213257,0.0013844814384356141,0.03138446807861328,0.04067929834127426,0.0002886122092604637,0.4406473934650421,0.07801254093647003,0.06897307932376862,0.0013465770753100514,0.038519781082868576,0.02712865173816681,0.0012837443500757217,0.03009248524904251,0.004232964012771845,0.009728686884045601,0.06893564015626907,0.04622546210885048,0.1363433599472046,0.026492532342672348,0.06819722801446915,0.022114573046565056,0.15022706985473633,0.006224480457603931,0.013987578451633453,0.016267141327261925,0.0006564423092640936,0.0020514363422989845,0.1107454001903534,0.7596737742424011,0.0016375998966395855,0.9999988079071045,0.9997654557228088,0.9999641180038452,0.6927124261856079,0.954315185546875,0.9984495639801025,0.9999279975891113,0.9943338632583618,0.9997084736824036,0.9963701963424683,0.9845050573348999,0.9978764057159424,0.9999680519104004,0.9999921321868896,0.997133731842041,0.9999958276748657,0.9998724460601807,0.9930779337882996,0.9998961687088013,0.9999778270721436,0.9989272952079773,0.9999783039093018,0.9891304969787598,0.9996908903121948,0.999908447265625,0.9999990463256836,0.9493535161018372,1.0,0.9999935626983643,1.0],\"coloraxis\":\"coloraxis\",\"symbol\":\"circle\"},\"mode\":\"markers\",\"name\":\"0\",\"orientation\":\"v\",\"showlegend\":true,\"x\":[-16.020130157470703,-29.47900390625,-20.991193771362305,-27.27014923095703,-34.818115234375,-41.5279541015625,-30.283761978149414,-26.20891761779785,-17.806596755981445,-21.890941619873047,-23.476858139038086,-13.290787696838379,-7.095304012298584,-31.207061767578125,-4.964797019958496,-24.664718627929688,-22.46613121032715,-9.607479095458984,-14.83443546295166,-17.29005241394043,-27.041006088256836,-29.768007278442383,-19.30219268798828,-25.156471252441406,-33.630859375,-31.33399200439453,-12.470844268798828,-22.556045532226562,-26.88134002685547,-21.397424697875977,63.176761627197266,9.596159934997559,39.788917541503906,20.75295066833496,62.77391815185547,5.114988327026367,72.82070922851562,50.677066802978516,24.620784759521484,19.699111938476562,12.825265884399414,11.695100784301758,11.912042617797852,5.333094120025635,22.470108032226562,35.13108444213867,35.433223724365234,-23.840497970581055,28.03752326965332,31.76259994506836,3.854642868041992,-5.534692287445068,-12.017897605895996,55.98881530761719,15.315374374389648,-9.813594818115234,70.3044662475586,31.120607376098633,2.4362528324127197,26.853614807128906,-17.737531661987305,-27.150936126708984,-34.9023323059082,-32.206634521484375,0.9395195841789246,-2.4729621410369873,-41.5279541015625,-9.994928359985352,-23.091176986694336,-0.22001728415489197,-19.925670623779297,-22.40520477294922,-17.830312728881836,-10.232330322265625,-12.425312042236328,-11.101899147033691,-4.983118057250977,-14.386554718017578,-27.13494110107422,-29.723793029785156,-15.185214042663574,-33.69230270385742,-15.073037147521973,-6.217518329620361,-15.380511283874512,-12.302044868469238,-10.978618621826172,3.296985387802124,-27.780118942260742,-24.33929443359375,47.871803283691406,56.05128860473633,42.10520935058594,9.806257247924805,28.623165130615234,34.40182876586914,6.578044891357422,49.46939468383789,51.77235794067383,36.897865295410156,33.67086410522461,40.864288330078125,18.04509162902832,25.309505462646484,50.677066802978516,32.090476989746094,13.880303382873535,56.787723541259766,-1.0333247184753418,-1.9277284145355225,-13.357259750366211,64.76211547851562,9.863927841186523,39.21250534057617,31.552677154541016,49.574798583984375,-8.415303230285645,28.708925247192383,72.24874877929688,9.3588285446167,-10.62470817565918,-19.570213317871094,-35.226158142089844,-28.011751174926758,-33.630859375,-28.89164924621582,-34.468421936035156,-25.825265884399414,-17.737531661987305,-23.271316528320312,-23.514057159423828,-12.974302291870117,-28.15732192993164,-8.541648864746094,-19.215011596679688,-31.979549407958984,70.86083221435547,-26.089292526245117,-10.409174919128418,-8.002725601196289,-22.97336769104004,-1.72689950466156,-20.231355667114258,-21.703868865966797,-16.69219398498535,-26.739715576171875,-10.232330322265625,-19.542638778686523,-8.526071548461914,-12.425312042236328,10.893120765686035,5.434863090515137,35.09856414794922,36.875755310058594,-2.3907086849212646,68.6925048828125,5.845968723297119,2.2628209590911865,33.731021881103516,12.662912368774414,39.67543029785156,19.795425415039062,29.66005516052246,7.809622764587402,5.662391662597656,40.344200134277344,26.67931365966797,71.94225311279297,46.276607513427734,10.479308128356934,2.6428921222686768,19.938743591308594,42.10520935058594,21.380380630493164,26.028823852539062,18.358810424804688,-9.772327423095703,28.59958267211914,47.4724235534668,43.50237274169922],\"xaxis\":\"x\",\"y\":[-47.88066482543945,-33.63496780395508,-18.35879135131836,-26.466651916503906,-10.053911209106445,14.022082328796387,-8.274619102478027,-4.964742183685303,5.7151594161987305,3.3098065853118896,-9.876036643981934,-10.39828109741211,-40.576053619384766,-40.02915954589844,-5.435479640960693,-38.81319046020508,-20.597360610961914,-31.20245361328125,4.53117036819458,-29.56232452392578,-36.05392837524414,-37.14748001098633,-42.71356964111328,-44.19548034667969,-3.6481471061706543,0.9192808270454407,-50.971397399902344,-27.978450775146484,-16.231250762939453,34.99501037597656,24.588626861572266,5.843109607696533,-2.8451008796691895,-7.817448139190674,6.286379814147949,8.494173049926758,28.91742706298828,13.24339485168457,1.605539083480835,14.35598373413086,-7.074411392211914,2.3968329429626465,-0.9062280058860779,1.2525177001953125,-1.9767447710037231,-0.3579188585281372,-16.86391830444336,6.806054592132568,1.5733575820922852,1.784334421157837,-9.36656665802002,9.960335731506348,25.387144088745117,15.901214599609375,23.334768295288086,10.202669143676758,14.097335815429688,-6.59429931640625,2.9863126277923584,-1.8533722162246704,13.108060836791992,-0.3121534585952759,-1.660765528678894,-35.817195892333984,-11.46172046661377,-13.85876178741455,14.022082328796387,-13.103075981140137,-48.79718017578125,-32.82171630859375,-32.36661911010742,-8.4273099899292,1.605708360671997,-44.77412033081055,-20.207895278930664,-0.13962526619434357,-49.40150451660156,-0.1746300756931305,2.2255282402038574,-31.00358772277832,-13.68932056427002,-43.05502700805664,-10.210882186889648,-13.89026165008545,-51.27675247192383,-3.382493734359741,-53.509735107421875,-32.5867805480957,-40.01777648925781,-24.877668380737305,3.89815092086792,-13.3115234375,10.667887687683105,2.0887746810913086,-2.3951609134674072,4.9490838050842285,12.553754806518555,2.0504651069641113,-8.93143367767334,7.170921325683594,12.96550464630127,-1.313136339187622,6.505383491516113,28.432836532592773,13.24339485168457,-4.971518039703369,-5.628942966461182,-5.622461318969727,9.354011535644531,12.113982200622559,24.105606079101562,25.360565185546875,23.101648330688477,4.0722246170043945,-0.0645153596997261,-14.883072853088379,21.71843147277832,-10.832204818725586,24.529125213623047,-3.590524435043335,-32.6823616027832,-47.92367935180664,-35.2984504699707,-5.063760280609131,-3.6481471061706543,-42.34648895263672,-38.85923767089844,-34.1119384765625,13.108060836791992,-36.41189193725586,-42.6476936340332,-46.51742935180664,-17.4340763092041,-5.639884948730469,-27.066551208496094,-32.39735794067383,40.09183120727539,-30.971364974975586,-49.17678451538086,-3.1958272457122803,1.8554731607437134,-15.4931640625,-0.8101780414581299,-29.79295539855957,-3.9087815284729004,16.166501998901367,-44.77412033081055,-24.17338752746582,0.6757155060768127,-20.207895278930664,21.653282165527344,18.891651153564453,-7.31874418258667,-15.844812393188477,3.8394393920898438,37.031219482421875,14.764543533325195,6.50512170791626,20.24345588684082,-15.30491828918457,16.916240692138672,7.118779182434082,5.561978816986084,-0.6715895533561707,3.9015331268310547,5.541919708251953,-5.945242404937744,30.58840560913086,1.5889536142349243,11.879228591918945,14.872180938720703,3.869767904281616,10.667887687683105,-9.456923484802246,4.91732120513916,-1.6720820665359497,20.4468994140625,14.741125106811523,7.194557189941406,-9.342283248901367],\"yaxis\":\"y\",\"type\":\"scatter\"},{\"hovertemplate\":\"symbol=1\\u003cbr\\u003ex=%{x}\\u003cbr\\u003ey=%{y}\\u003cbr\\u003ecolor=%{marker.color}\\u003cextra\\u003e\\u003c\\u002fextra\\u003e\",\"legendgroup\":\"1\",\"marker\":{\"color\":[1.0,1.0,1.0,1.0,1.0,1.0,1.0,1.0,1.0,1.0,1.0,1.0,1.0,1.0,1.0,1.0,1.0,1.0,1.0,1.0,1.0,1.0,1.0,1.0,1.0,1.0,1.0,1.0,1.0,1.0,5.970795768917014e-08,2.369134333157774e-10,1.0770867531206818e-09,3.8500886923031885e-09,1.799656118572912e-10,1.6444792749759074e-10,3.6421949900500294e-09,8.057934319793958e-10,3.671378578928852e-08,1.0,3.1561146057734746e-11,1.981817623420215e-13,1.6235164254641e-11,1.959324716360733e-11,3.858071639939453e-09,1.00007984116246e-08,1.0122453222849437e-11,2.170881356622356e-11,6.158376475440264e-09,3.384018842922387e-09,2.843269023000694e-11,6.672077557112743e-09,2.733980949346914e-14,1.2990064579554428e-09,2.3237289870081668e-09,5.40640865409614e-09,6.036627553385188e-08,1.8175603599956958e-07,2.5201919544304285e-12,7.835464543859416e-08,1.0,1.0,1.0,0.9999998807907104,1.0,1.0,1.0,1.0,1.0,1.0,1.0,1.0,1.0,0.9999996423721313,1.0,1.0,0.999996542930603,1.0,1.0,1.0,1.0,1.0,1.0,1.0,0.9999998807907104,1.0,1.0,1.0,1.0,1.0,2.108751923080021e-10,4.026097510934079e-11,4.780112937419201e-12,1.981817623420215e-13,7.835464543859416e-08,7.930499812403013e-09,2.2376853703320876e-09,4.8079656575494845e-12,1.0,2.855896075182329e-10,1.0,1.0770867531206818e-09,7.366344340065112e-11,8.550315455657653e-10,8.057934319793958e-10,1.8175603599956958e-07,3.1561146057734746e-11,5.498071442566754e-11,7.640129240371607e-08,6.096323446058705e-11,2.733980949346914e-14,5.970795768917014e-08,4.6635656758553523e-07,3.616478227996822e-09,3.384018842922387e-09,1.0,1.8271850503980003e-13,9.425558289422042e-08,1.1486464757126669e-07,7.303030957750423e-10,1.0,1.0,1.0,1.0,1.0,1.0,1.0,1.0,1.0,1.0,1.0,0.9999998807907104,1.0,1.0,1.0,1.0,1.0,1.0,1.0,1.0,1.0,1.0,1.0,1.0,1.0,1.0,0.9999996423721313,1.0,1.0,1.0,4.6635656758553523e-07,1.4053440189343291e-08,2.010337230018422e-09,1.0122453222849437e-11,2.466796766853463e-10,2.2350110651103705e-09,1.0400200523008607e-07,2.1655724435909462e-10,1.8197856416213298e-11,2.505719520762284e-10,1.3065248882782043e-10,7.366344340065112e-11,2.7793350954041784e-10,1.659330273184878e-08,2.991337039182085e-11,3.616478227996822e-09,1.2655124059790523e-08,3.6421949900500294e-09,8.862785172425447e-09,3.6359273369868106e-09,5.630292898572975e-10,9.93055970788248e-10,4.780112937419201e-12,3.8500886923031885e-09,2.254977760074439e-09,1.001842520054197e-07,1.8271850503980003e-13,1.0,6.316402401118637e-10,1.0],\"coloraxis\":\"coloraxis\",\"symbol\":\"diamond\"},\"mode\":\"markers\",\"name\":\"1\",\"orientation\":\"v\",\"showlegend\":true,\"x\":[-50.491458892822266,-73.13935089111328,-58.07407760620117,-66.54778289794922,-37.06622314453125,-48.86372375488281,-73.37467956542969,-72.9745101928711,-63.21769714355469,-65.84927368164062,-76.52169036865234,-50.211997985839844,-46.415557861328125,-67.42157745361328,-54.35031509399414,-60.64898681640625,-57.751914978027344,-53.381229400634766,-66.25798034667969,-72.71475219726562,-64.94815826416016,-63.75026321411133,-53.28131866455078,-58.2934455871582,-73.26436614990234,-68.31034088134766,-44.07447052001953,-68.99636840820312,-53.93265914916992,-23.201332092285156,62.2125244140625,17.047670364379883,37.84075164794922,31.248443603515625,63.733428955078125,24.703311920166016,76.2134017944336,55.146270751953125,32.65503692626953,19.699111938476562,28.120485305786133,24.59600830078125,28.2534236907959,27.58720588684082,34.85737228393555,48.750526428222656,59.93417739868164,8.73354721069336,39.33095169067383,36.48875427246094,46.653446197509766,10.854105949401855,-6.294948577880859,57.063446044921875,17.021442413330078,16.26100730895996,71.54090881347656,49.041385650634766,23.678302764892578,40.407955169677734,-62.91297912597656,-72.23535919189453,-70.92271423339844,-68.2375717163086,-47.75596618652344,-2.842759847640991,-49.22048568725586,-49.925086975097656,-25.484399795532227,-43.130027770996094,-70.83209228515625,-76.5558853149414,-62.756656646728516,-50.829471588134766,-63.47305679321289,-58.377227783203125,-2.5640523433685303,-60.405513763427734,-70.08489990234375,-73.13935089111328,-46.98431396484375,-61.523616790771484,-50.272560119628906,-46.40339279174805,-47.15634536743164,-57.200775146484375,-39.6358642578125,5.573294639587402,-65.65855407714844,-67.63796997070312,50.845420837402344,58.2517204284668,44.1191291809082,24.59600830078125,40.407955169677734,41.5296745300293,22.34200096130371,49.976863861083984,53.441986083984375,47.19617462158203,32.812625885009766,37.658119201660156,41.24443817138672,26.214923858642578,53.383888244628906,50.62983703613281,28.120485305786133,58.519378662109375,12.907220840454102,14.2111234664917,-7.2552337646484375,62.2125244140625,13.019356727600098,44.5394287109375,36.48875427246094,50.69057846069336,-2.4587905406951904,44.23374557495117,74.08074188232422,32.25211715698242,-53.381229400634766,-51.53166580200195,-68.87993621826172,-72.67801666259766,-73.26436614990234,-64.35749053955078,-71.075439453125,-64.26358795166016,-62.91297912597656,-61.995582580566406,-58.2934455871582,-49.82371520996094,-53.93265914916992,-51.580810546875,-71.64527130126953,-73.13935089111328,72.37554931640625,-72.67279052734375,-44.2383918762207,-53.12833023071289,-65.84927368164062,-0.9998894929885864,-64.7032241821289,-69.51656341552734,-59.41200637817383,-29.050477981567383,-48.983238220214844,-73.41478729248047,-56.63767623901367,-63.47305679321289,14.556663513183594,9.778596878051758,54.23569869995117,59.93417739868164,17.255067825317383,66.53292083740234,25.310218811035156,20.84054183959961,34.657745361328125,33.63162612915039,40.167911529541016,39.67380905151367,43.81608581542969,30.878328323364258,22.159143447875977,43.492942810058594,49.39258575439453,76.2134017944336,53.857093811035156,28.27933120727539,18.349502563476562,39.40055847167969,44.1191291809082,29.652267456054688,35.36299133300781,31.626157760620117,-3.38997483253479,28.15224838256836,53.666160583496094,43.50237274169922],\"xaxis\":\"x\",\"y\":[-48.62306213378906,-49.194942474365234,-13.33486557006836,-26.07084846496582,-11.253799438476562,12.89309310913086,-16.711782455444336,-0.8429912328720093,2.5699055194854736,-5.434386253356934,-5.603644847869873,-13.562273025512695,-3.4473323822021484,-44.61760330200195,-4.3092780113220215,-34.51926803588867,-15.548057556152344,-31.50626564025879,-10.489425659179688,-26.86454200744629,-37.88462448120117,-40.46425247192383,-38.54384994506836,-40.706024169921875,-11.686197280883789,-0.6473464965820312,-49.16633605957031,-27.702054977416992,-19.627002716064453,34.80312728881836,29.881669998168945,52.422122955322266,33.957637786865234,35.08778381347656,7.971558094024658,43.65424346923828,31.45389747619629,36.11139678955078,46.7396125793457,14.35598373413086,63.166542053222656,57.07242965698242,56.24180221557617,51.37290573120117,40.31293869018555,38.73251724243164,47.002197265625,46.247352600097656,40.363800048828125,44.02066421508789,56.923622131347656,42.74596405029297,33.89057540893555,17.694734573364258,26.310335159301758,57.230655670166016,15.416501998901367,44.65090560913086,51.486385345458984,44.32600021362305,7.82180118560791,-5.7287726402282715,-12.150774002075195,-39.60578918457031,0.6562802195549011,-20.71825408935547,14.698080062866211,-6.952345848083496,-50.83323669433594,-22.618507385253906,-30.903423309326172,-3.7094781398773193,-3.539166212081909,-54.846187591552734,-17.970596313476562,1.5430495738983154,-51.68085479736328,-1.0646281242370605,-4.385814189910889,-49.194942474365234,-13.05655288696289,-46.372642517089844,-11.738920211791992,-8.895282745361328,-48.40959930419922,-2.6306796073913574,-51.51866149902344,-32.63518524169922,-50.07513427734375,-23.03614044189453,26.503257751464844,-13.990755081176758,27.856548309326172,57.07242965698242,44.32600021362305,38.54597091674805,40.75104522705078,24.460451126098633,-9.507149696350098,32.45559310913086,11.415943145751953,32.16033172607422,53.36623001098633,30.09237289428711,36.33891677856445,45.4969367980957,63.166542053222656,-4.212857246398926,43.66183090209961,40.390602111816406,35.574432373046875,29.881669998168945,29.16373062133789,34.92514419555664,44.02066421508789,-16.254661560058594,36.17329788208008,42.27089309692383,23.5944766998291,51.96281814575195,-31.50626564025879,-45.683963775634766,-35.12236404418945,0.9947559833526611,-11.686197280883789,-48.60182189941406,-39.73594284057617,-35.822364807128906,7.82180118560791,-37.70069885253906,-40.706024169921875,-51.498321533203125,-19.627002716064453,-2.4110419750213623,-23.21849250793457,-49.194942474365234,41.159339904785156,-37.039833068847656,-51.26424789428711,-0.6847835183143616,-5.434386253356934,-20.634309768676758,-1.252098798751831,-25.757631301879883,-5.961752891540527,16.891002655029297,-55.037601470947266,-20.716676712036133,3.58398175239563,-17.970596313476562,29.985300064086914,38.935264587402344,42.11317443847656,47.002197265625,44.71581268310547,36.2504768371582,40.03420639038086,42.35978317260742,22.31090545654297,58.21837615966797,19.763341903686523,54.29704284667969,48.422515869140625,48.877418518066406,54.63188934326172,33.43584442138672,50.93043518066406,31.45389747619629,24.9285888671875,46.71184158325195,58.780540466308594,48.9640007019043,27.856548309326172,35.818180084228516,48.74026870727539,41.02062225341797,37.81608963012695,13.003046989440918,30.597614288330078,-9.342283248901367],\"yaxis\":\"y\",\"type\":\"scatter\"}],                        {\"template\":{\"data\":{\"histogram2dcontour\":[{\"type\":\"histogram2dcontour\",\"colorbar\":{\"outlinewidth\":0,\"ticks\":\"\"},\"colorscale\":[[0.0,\"#0d0887\"],[0.1111111111111111,\"#46039f\"],[0.2222222222222222,\"#7201a8\"],[0.3333333333333333,\"#9c179e\"],[0.4444444444444444,\"#bd3786\"],[0.5555555555555556,\"#d8576b\"],[0.6666666666666666,\"#ed7953\"],[0.7777777777777778,\"#fb9f3a\"],[0.8888888888888888,\"#fdca26\"],[1.0,\"#f0f921\"]]}],\"choropleth\":[{\"type\":\"choropleth\",\"colorbar\":{\"outlinewidth\":0,\"ticks\":\"\"}}],\"histogram2d\":[{\"type\":\"histogram2d\",\"colorbar\":{\"outlinewidth\":0,\"ticks\":\"\"},\"colorscale\":[[0.0,\"#0d0887\"],[0.1111111111111111,\"#46039f\"],[0.2222222222222222,\"#7201a8\"],[0.3333333333333333,\"#9c179e\"],[0.4444444444444444,\"#bd3786\"],[0.5555555555555556,\"#d8576b\"],[0.6666666666666666,\"#ed7953\"],[0.7777777777777778,\"#fb9f3a\"],[0.8888888888888888,\"#fdca26\"],[1.0,\"#f0f921\"]]}],\"heatmap\":[{\"type\":\"heatmap\",\"colorbar\":{\"outlinewidth\":0,\"ticks\":\"\"},\"colorscale\":[[0.0,\"#0d0887\"],[0.1111111111111111,\"#46039f\"],[0.2222222222222222,\"#7201a8\"],[0.3333333333333333,\"#9c179e\"],[0.4444444444444444,\"#bd3786\"],[0.5555555555555556,\"#d8576b\"],[0.6666666666666666,\"#ed7953\"],[0.7777777777777778,\"#fb9f3a\"],[0.8888888888888888,\"#fdca26\"],[1.0,\"#f0f921\"]]}],\"heatmapgl\":[{\"type\":\"heatmapgl\",\"colorbar\":{\"outlinewidth\":0,\"ticks\":\"\"},\"colorscale\":[[0.0,\"#0d0887\"],[0.1111111111111111,\"#46039f\"],[0.2222222222222222,\"#7201a8\"],[0.3333333333333333,\"#9c179e\"],[0.4444444444444444,\"#bd3786\"],[0.5555555555555556,\"#d8576b\"],[0.6666666666666666,\"#ed7953\"],[0.7777777777777778,\"#fb9f3a\"],[0.8888888888888888,\"#fdca26\"],[1.0,\"#f0f921\"]]}],\"contourcarpet\":[{\"type\":\"contourcarpet\",\"colorbar\":{\"outlinewidth\":0,\"ticks\":\"\"}}],\"contour\":[{\"type\":\"contour\",\"colorbar\":{\"outlinewidth\":0,\"ticks\":\"\"},\"colorscale\":[[0.0,\"#0d0887\"],[0.1111111111111111,\"#46039f\"],[0.2222222222222222,\"#7201a8\"],[0.3333333333333333,\"#9c179e\"],[0.4444444444444444,\"#bd3786\"],[0.5555555555555556,\"#d8576b\"],[0.6666666666666666,\"#ed7953\"],[0.7777777777777778,\"#fb9f3a\"],[0.8888888888888888,\"#fdca26\"],[1.0,\"#f0f921\"]]}],\"surface\":[{\"type\":\"surface\",\"colorbar\":{\"outlinewidth\":0,\"ticks\":\"\"},\"colorscale\":[[0.0,\"#0d0887\"],[0.1111111111111111,\"#46039f\"],[0.2222222222222222,\"#7201a8\"],[0.3333333333333333,\"#9c179e\"],[0.4444444444444444,\"#bd3786\"],[0.5555555555555556,\"#d8576b\"],[0.6666666666666666,\"#ed7953\"],[0.7777777777777778,\"#fb9f3a\"],[0.8888888888888888,\"#fdca26\"],[1.0,\"#f0f921\"]]}],\"mesh3d\":[{\"type\":\"mesh3d\",\"colorbar\":{\"outlinewidth\":0,\"ticks\":\"\"}}],\"scatter\":[{\"fillpattern\":{\"fillmode\":\"overlay\",\"size\":10,\"solidity\":0.2},\"type\":\"scatter\"}],\"parcoords\":[{\"type\":\"parcoords\",\"line\":{\"colorbar\":{\"outlinewidth\":0,\"ticks\":\"\"}}}],\"scatterpolargl\":[{\"type\":\"scatterpolargl\",\"marker\":{\"colorbar\":{\"outlinewidth\":0,\"ticks\":\"\"}}}],\"bar\":[{\"error_x\":{\"color\":\"#2a3f5f\"},\"error_y\":{\"color\":\"#2a3f5f\"},\"marker\":{\"line\":{\"color\":\"#E5ECF6\",\"width\":0.5},\"pattern\":{\"fillmode\":\"overlay\",\"size\":10,\"solidity\":0.2}},\"type\":\"bar\"}],\"scattergeo\":[{\"type\":\"scattergeo\",\"marker\":{\"colorbar\":{\"outlinewidth\":0,\"ticks\":\"\"}}}],\"scatterpolar\":[{\"type\":\"scatterpolar\",\"marker\":{\"colorbar\":{\"outlinewidth\":0,\"ticks\":\"\"}}}],\"histogram\":[{\"marker\":{\"pattern\":{\"fillmode\":\"overlay\",\"size\":10,\"solidity\":0.2}},\"type\":\"histogram\"}],\"scattergl\":[{\"type\":\"scattergl\",\"marker\":{\"colorbar\":{\"outlinewidth\":0,\"ticks\":\"\"}}}],\"scatter3d\":[{\"type\":\"scatter3d\",\"line\":{\"colorbar\":{\"outlinewidth\":0,\"ticks\":\"\"}},\"marker\":{\"colorbar\":{\"outlinewidth\":0,\"ticks\":\"\"}}}],\"scattermapbox\":[{\"type\":\"scattermapbox\",\"marker\":{\"colorbar\":{\"outlinewidth\":0,\"ticks\":\"\"}}}],\"scatterternary\":[{\"type\":\"scatterternary\",\"marker\":{\"colorbar\":{\"outlinewidth\":0,\"ticks\":\"\"}}}],\"scattercarpet\":[{\"type\":\"scattercarpet\",\"marker\":{\"colorbar\":{\"outlinewidth\":0,\"ticks\":\"\"}}}],\"carpet\":[{\"aaxis\":{\"endlinecolor\":\"#2a3f5f\",\"gridcolor\":\"white\",\"linecolor\":\"white\",\"minorgridcolor\":\"white\",\"startlinecolor\":\"#2a3f5f\"},\"baxis\":{\"endlinecolor\":\"#2a3f5f\",\"gridcolor\":\"white\",\"linecolor\":\"white\",\"minorgridcolor\":\"white\",\"startlinecolor\":\"#2a3f5f\"},\"type\":\"carpet\"}],\"table\":[{\"cells\":{\"fill\":{\"color\":\"#EBF0F8\"},\"line\":{\"color\":\"white\"}},\"header\":{\"fill\":{\"color\":\"#C8D4E3\"},\"line\":{\"color\":\"white\"}},\"type\":\"table\"}],\"barpolar\":[{\"marker\":{\"line\":{\"color\":\"#E5ECF6\",\"width\":0.5},\"pattern\":{\"fillmode\":\"overlay\",\"size\":10,\"solidity\":0.2}},\"type\":\"barpolar\"}],\"pie\":[{\"automargin\":true,\"type\":\"pie\"}]},\"layout\":{\"autotypenumbers\":\"strict\",\"colorway\":[\"#636efa\",\"#EF553B\",\"#00cc96\",\"#ab63fa\",\"#FFA15A\",\"#19d3f3\",\"#FF6692\",\"#B6E880\",\"#FF97FF\",\"#FECB52\"],\"font\":{\"color\":\"#2a3f5f\"},\"hovermode\":\"closest\",\"hoverlabel\":{\"align\":\"left\"},\"paper_bgcolor\":\"white\",\"plot_bgcolor\":\"#E5ECF6\",\"polar\":{\"bgcolor\":\"#E5ECF6\",\"angularaxis\":{\"gridcolor\":\"white\",\"linecolor\":\"white\",\"ticks\":\"\"},\"radialaxis\":{\"gridcolor\":\"white\",\"linecolor\":\"white\",\"ticks\":\"\"}},\"ternary\":{\"bgcolor\":\"#E5ECF6\",\"aaxis\":{\"gridcolor\":\"white\",\"linecolor\":\"white\",\"ticks\":\"\"},\"baxis\":{\"gridcolor\":\"white\",\"linecolor\":\"white\",\"ticks\":\"\"},\"caxis\":{\"gridcolor\":\"white\",\"linecolor\":\"white\",\"ticks\":\"\"}},\"coloraxis\":{\"colorbar\":{\"outlinewidth\":0,\"ticks\":\"\"}},\"colorscale\":{\"sequential\":[[0.0,\"#0d0887\"],[0.1111111111111111,\"#46039f\"],[0.2222222222222222,\"#7201a8\"],[0.3333333333333333,\"#9c179e\"],[0.4444444444444444,\"#bd3786\"],[0.5555555555555556,\"#d8576b\"],[0.6666666666666666,\"#ed7953\"],[0.7777777777777778,\"#fb9f3a\"],[0.8888888888888888,\"#fdca26\"],[1.0,\"#f0f921\"]],\"sequentialminus\":[[0.0,\"#0d0887\"],[0.1111111111111111,\"#46039f\"],[0.2222222222222222,\"#7201a8\"],[0.3333333333333333,\"#9c179e\"],[0.4444444444444444,\"#bd3786\"],[0.5555555555555556,\"#d8576b\"],[0.6666666666666666,\"#ed7953\"],[0.7777777777777778,\"#fb9f3a\"],[0.8888888888888888,\"#fdca26\"],[1.0,\"#f0f921\"]],\"diverging\":[[0,\"#8e0152\"],[0.1,\"#c51b7d\"],[0.2,\"#de77ae\"],[0.3,\"#f1b6da\"],[0.4,\"#fde0ef\"],[0.5,\"#f7f7f7\"],[0.6,\"#e6f5d0\"],[0.7,\"#b8e186\"],[0.8,\"#7fbc41\"],[0.9,\"#4d9221\"],[1,\"#276419\"]]},\"xaxis\":{\"gridcolor\":\"white\",\"linecolor\":\"white\",\"ticks\":\"\",\"title\":{\"standoff\":15},\"zerolinecolor\":\"white\",\"automargin\":true,\"zerolinewidth\":2},\"yaxis\":{\"gridcolor\":\"white\",\"linecolor\":\"white\",\"ticks\":\"\",\"title\":{\"standoff\":15},\"zerolinecolor\":\"white\",\"automargin\":true,\"zerolinewidth\":2},\"scene\":{\"xaxis\":{\"backgroundcolor\":\"#E5ECF6\",\"gridcolor\":\"white\",\"linecolor\":\"white\",\"showbackground\":true,\"ticks\":\"\",\"zerolinecolor\":\"white\",\"gridwidth\":2},\"yaxis\":{\"backgroundcolor\":\"#E5ECF6\",\"gridcolor\":\"white\",\"linecolor\":\"white\",\"showbackground\":true,\"ticks\":\"\",\"zerolinecolor\":\"white\",\"gridwidth\":2},\"zaxis\":{\"backgroundcolor\":\"#E5ECF6\",\"gridcolor\":\"white\",\"linecolor\":\"white\",\"showbackground\":true,\"ticks\":\"\",\"zerolinecolor\":\"white\",\"gridwidth\":2}},\"shapedefaults\":{\"line\":{\"color\":\"#2a3f5f\"}},\"annotationdefaults\":{\"arrowcolor\":\"#2a3f5f\",\"arrowhead\":0,\"arrowwidth\":1},\"geo\":{\"bgcolor\":\"white\",\"landcolor\":\"#E5ECF6\",\"subunitcolor\":\"white\",\"showland\":true,\"showlakes\":true,\"lakecolor\":\"white\"},\"title\":{\"x\":0.05},\"mapbox\":{\"style\":\"light\"}}},\"xaxis\":{\"anchor\":\"y\",\"domain\":[0.0,1.0],\"title\":{\"text\":\"x\"}},\"yaxis\":{\"anchor\":\"x\",\"domain\":[0.0,1.0],\"title\":{\"text\":\"y\"}},\"coloraxis\":{\"colorbar\":{\"title\":{\"text\":\"color\"}},\"colorscale\":[[0.0,\"rgb(0,0,255)\"],[1.0,\"rgb(255,0,0)\"]]},\"legend\":{\"title\":{\"text\":\"symbol\"},\"tracegroupgap\":0},\"margin\":{\"t\":60}},                        {\"responsive\": true}                    ).then(function(){\n",
       "                            \n",
       "var gd = document.getElementById('68354ff1-49a3-4ca8-9411-9fcd8ffe469f');\n",
       "var x = new MutationObserver(function (mutations, observer) {{\n",
       "        var display = window.getComputedStyle(gd).display;\n",
       "        if (!display || display === 'none') {{\n",
       "            console.log([gd, 'removed!']);\n",
       "            Plotly.purge(gd);\n",
       "            observer.disconnect();\n",
       "        }}\n",
       "}});\n",
       "\n",
       "// Listen for the removal of the full notebook cells\n",
       "var notebookContainer = gd.closest('#notebook-container');\n",
       "if (notebookContainer) {{\n",
       "    x.observe(notebookContainer, {childList: true});\n",
       "}}\n",
       "\n",
       "// Listen for the clearing of the current output cell\n",
       "var outputEl = gd.closest('.output');\n",
       "if (outputEl) {{\n",
       "    x.observe(outputEl, {childList: true});\n",
       "}}\n",
       "\n",
       "                        })                };                });            </script>        </div>"
      ]
     },
     "metadata": {},
     "output_type": "display_data"
    }
   ],
   "source": [
    "scatter(\n",
    "    x = new_data[:, 0],\n",
    "    y = new_data[:, 1],\n",
    "    # z = new_data[:, 2],\n",
    "    size_max = 10,\n",
    "    color = labels.detach().squeeze().cpu().numpy(),\n",
    "    color_continuous_scale = 'bluered',\n",
    "    symbol = types.squeeze()\n",
    ")"
   ]
  }
 ],
 "metadata": {
  "kernelspec": {
   "display_name": "Python 3 (ipykernel)",
   "language": "python",
   "name": "python3"
  },
  "language_info": {
   "codemirror_mode": {
    "name": "ipython",
    "version": 3
   },
   "file_extension": ".py",
   "mimetype": "text/x-python",
   "name": "python",
   "nbconvert_exporter": "python",
   "pygments_lexer": "ipython3",
   "version": "3.10.9"
  }
 },
 "nbformat": 4,
 "nbformat_minor": 5
}
